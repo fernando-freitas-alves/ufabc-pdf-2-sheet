{
 "cells": [
  {
   "cell_type": "markdown",
   "metadata": {},
   "source": [
    "Define ```displayFileLink``` function that displays a link of a file with ```filename``` string filename prefixed by the message given by ```message``` string."
   ]
  },
  {
   "cell_type": "code",
   "execution_count": null,
   "metadata": {},
   "outputs": [],
   "source": [
    "def displayFileLink(message, filename):\n",
    "    divText = '<div style=\"display:inline-block\">' + message + '&nbsp</div>'\n",
    "    file = FileLink(filename, result_html_prefix=divText)\n",
    "    display(file)"
   ]
  },
  {
   "cell_type": "markdown",
   "metadata": {},
   "source": [
    "Define ```downloadPDF``` function that downloads a PDF file from a link provided by ```url``` string and rename it to ```filename_pdf``` input string."
   ]
  },
  {
   "cell_type": "code",
   "execution_count": null,
   "metadata": {},
   "outputs": [],
   "source": [
    "def downloadPDF(url, pdf_filename):\n",
    "    !wget $url -O $pdf_filename\n",
    "    displayFileLink('PDF file saved as:', pdf_filename)"
   ]
  },
  {
   "cell_type": "markdown",
   "metadata": {},
   "source": [
    "Define ```convertPDFtoCSV``` function that converts a PDF file given by ```pdf_filename``` string file name to a CSV file with filename given by ```csv_filename``` input (*credits to [tabula-java team](https://github.com/tabulapdf/tabula-java)*)."
   ]
  },
  {
   "cell_type": "code",
   "execution_count": null,
   "metadata": {},
   "outputs": [],
   "source": [
    "def convertPDFtoCSV(pdf_filename, csv_filename):\n",
    "    !java -Dfile.encoding=utf-8 -jar tabula.jar -l --pages 3 $pdf_filename -o $csv_filename\n",
    "    displayFileLink('CSV file saved as:', csv_filename)"
   ]
  },
  {
   "cell_type": "markdown",
   "metadata": {},
   "source": [
    "Define ```convertCSVtoJSON``` function that converts a CSV file with filename given by ```csv_filename``` string input to a JSON properly processed file with filename given by ```json_filename``` input and data given by ```json_data``` output."
   ]
  },
  {
   "cell_type": "code",
   "execution_count": null,
   "metadata": {},
   "outputs": [],
   "source": [
    "def convertCSVtoJSON(csv_filename, json_filename):\n",
    "    with open(csv_filename, encoding=\"utf-8\") as file:\n",
    "        import csv\n",
    "        csv_data = csv.reader(file, delimiter=',', quotechar='\"')\n",
    "        week_names = ('segunda','terça','quarta','quinta','sexta','sábado','domingo')\n",
    "        full_data = []\n",
    "        index = -1\n",
    "        for row in csv_data:\n",
    "            index = index + 1\n",
    "            if index:\n",
    "    #             print(', '.join(row).replace('\\r',''))\n",
    "    #             print()\n",
    "                column = 0\n",
    "                for cell in row:\n",
    "                    column = column + 1\n",
    "                    data = cell.replace('\\r','').replace('\\n',' ').replace(' , ',', ').strip()\n",
    "                    if   data == '¬': data = ''\n",
    "                    elif data == '0': data = ''\n",
    "\n",
    "                    # Código\n",
    "                    if column == 1:\n",
    "                        codigo = data.upper()\n",
    "\n",
    "                    # Disciplina - turma\n",
    "                    elif column == 2:\n",
    "                        # Campus\n",
    "                        data, _, campus = data.rpartition('(')\n",
    "                        campus = title_pos_tag(campus[:-1])\n",
    "\n",
    "                        # Disciplina\n",
    "                        disciplina, _, data = data.strip().rpartition(' ')\n",
    "                        disciplina = title_pos_tag(disciplina)\n",
    "\n",
    "                        # Turma e período\n",
    "                        turma, _, periodo = data.strip().rpartition('-')\n",
    "                        turma   = turma.upper()\n",
    "                        periodo = periodo.capitalize()\n",
    "\n",
    "                        # Subcódigo\n",
    "                        subcodigo, _, _ = codigo.partition('-')\n",
    "                        subcodigo = subcodigo[len(turma)+1:]\n",
    "\n",
    "\n",
    "                    # Teoria\n",
    "                    elif column == 3:\n",
    "                        for week in week_names:\n",
    "                            data = data.replace(week, '\\n' + week)\n",
    "                        teoria = data.replace(', \\n','\\n').strip().splitlines()\n",
    "\n",
    "                        teoria_num_of_days = len(teoria)\n",
    "                        teoria_dia_da_semana = [None]*teoria_num_of_days\n",
    "                        teoria_entrada       = [None]*teoria_num_of_days\n",
    "                        teoria_saida         = [None]*teoria_num_of_days\n",
    "                        teoria_sala          = [None]*teoria_num_of_days\n",
    "                        teoria_frequencia    = [None]*teoria_num_of_days\n",
    "                        for day in range(teoria_num_of_days):\n",
    "                            data = teoria[day]\n",
    "                            teoria_dia_da_semana[day], _, data                   = data.partition(' das ')\n",
    "                            teoria_entrada[day],       _, data                   = data.partition(' às ')\n",
    "                            teoria_saida[day],         _, data                   = data.partition(', sala ')\n",
    "                            teoria_sala[day],          _, teoria_frequencia[day] = data.partition(', ')\n",
    "\n",
    "                            teoria_dia_da_semana[day] = teoria_dia_da_semana[day].capitalize()\n",
    "                            teoria_frequencia[day]    = teoria_frequencia[day].capitalize()\n",
    "                            teoria_sala[day]          = teoria_sala[day].upper()\n",
    "\n",
    "                    # Prática\n",
    "                    elif column == 4:\n",
    "                        for week in week_names:\n",
    "                            data = data.replace(week, '\\n' + week)\n",
    "                        pratica = data.replace(',\\n','\\n').strip().splitlines()\n",
    "\n",
    "                        pratica_num_of_days = len(pratica)\n",
    "                        pratica_dia_da_semana = [None]*pratica_num_of_days\n",
    "                        pratica_entrada       = [None]*pratica_num_of_days\n",
    "                        pratica_saida         = [None]*pratica_num_of_days\n",
    "                        pratica_sala          = [None]*pratica_num_of_days\n",
    "                        pratica_frequencia    = [None]*pratica_num_of_days\n",
    "                        for day in range(pratica_num_of_days):\n",
    "                            data = pratica[day]\n",
    "                            pratica_dia_da_semana[day], _, data                    = data.partition(' das ')\n",
    "                            pratica_entrada[day],       _, data                    = data.partition(' às ')\n",
    "                            pratica_saida[day],         _, data                    = data.partition(', sala ')\n",
    "                            pratica_sala[day],          _, pratica_frequencia[day] = data.partition(', ')\n",
    "\n",
    "                            pratica_dia_da_semana[day] = pratica_dia_da_semana[day].capitalize()\n",
    "                            pratica_frequencia[day]    = pratica_frequencia[day].capitalize()\n",
    "                            pratica_sala[day]          = pratica_sala[day].upper()\n",
    "\n",
    "                    # Docente teoria\n",
    "                    elif column == 5:\n",
    "                        docente_teoria = title_pos_tag(data)\n",
    "\n",
    "                    # Docente prática\n",
    "                    elif column == 6:\n",
    "                        docente_pratica = title_pos_tag(data)\n",
    "\n",
    "                teoria = []\n",
    "                i = 0\n",
    "                for day in range(teoria_num_of_days):\n",
    "                    i = i + 1\n",
    "                    teoria_new = {'id': i,\n",
    "                                  'dia_da_semana': teoria_dia_da_semana[day],\n",
    "                                  'horario_de_entrada': teoria_entrada[day],\n",
    "                                  'horario_de_saida': teoria_saida[day],\n",
    "                                  'sala': teoria_sala[day],\n",
    "                                  'frequencia': teoria_frequencia[day]}\n",
    "                    teoria.append(teoria_new)\n",
    "\n",
    "                pratica = []\n",
    "                i = -1\n",
    "                for day in range(pratica_num_of_days):\n",
    "                    i = i + 1\n",
    "                    pratica_new = {'id': i,\n",
    "                                   'dia_da_semana': pratica_dia_da_semana[day],\n",
    "                                   'horario_de_entrada': pratica_entrada[day],\n",
    "                                   'horario_de_saida': pratica_saida[day],\n",
    "                                   'sala': pratica_sala[day],\n",
    "                                   'frequencia': pratica_frequencia[day]}\n",
    "                    pratica.append(pratica_new)\n",
    "\n",
    "                new_data = {'id': index-1,\n",
    "                            'codigo': codigo,\n",
    "                            'subcodigo': subcodigo,\n",
    "                            'disciplina': disciplina,\n",
    "                            'campus': campus,\n",
    "                            'periodo': periodo,\n",
    "                            'turma': turma,\n",
    "                            'teoria': teoria,\n",
    "                            'pratica': pratica,\n",
    "                            'docente_teoria': docente_teoria,\n",
    "                            'docente_pratica': docente_pratica}\n",
    "                full_data.append(new_data)\n",
    "\n",
    "        with open(json_filename, 'w') as file:\n",
    "            import json\n",
    "            json.dump(full_data, file)\n",
    "            displayFileLink('JSON file saved as:', json_filename)\n",
    "        with open(json_filename, 'r') as file:\n",
    "            json_data = json.load(file)\n",
    "            return json_data"
   ]
  },
  {
   "cell_type": "markdown",
   "metadata": {},
   "source": [
    "Define ```convertJSONtoSheet``` function that processes a JSON file with data given by ```json_data``` into a spreadsheet."
   ]
  },
  {
   "cell_type": "code",
   "execution_count": null,
   "metadata": {},
   "outputs": [],
   "source": [
    "def convertJSONtoSheet(json_data):\n",
    "    import pandas as pd\n",
    "    import qgrid\n",
    "    \n",
    "    id              = pd.Series()\n",
    "    codigo          = pd.Series()\n",
    "    subcodigo       = pd.Series()\n",
    "    disciplina      = pd.Series()\n",
    "    campus          = pd.Series()\n",
    "    periodo         = pd.Series()\n",
    "    turma           = pd.Series()\n",
    "#     teoria          = pd.Series()\n",
    "#     pratica         = pd.Series()\n",
    "    docente_teoria  = pd.Series()\n",
    "    docente_pratica = pd.Series()\n",
    "    \n",
    "    for disciplina in json_data:\n",
    "        index = str(disciplina['id'])\n",
    "        id[index]              = disciplina['id']\n",
    "        codigo[index]          = disciplina['codigo']\n",
    "        subcodigo[index]       = disciplina['subcodigo']\n",
    "        disciplina[index]      = disciplina['disciplina']\n",
    "        campus[index]          = disciplina['campus']\n",
    "        periodo[index]         = disciplina['periodo']\n",
    "        turma[index]           = disciplina['turma']\n",
    "#         teoria[index]          = disciplina['teoria']\n",
    "#         pratica[index]         = disciplina['pratica']\n",
    "        docente_teoria[index]  = disciplina['docente_teoria']\n",
    "        docente_pratica[index] = disciplina['docente_pratica']\n",
    "        print(disciplina)\n",
    "        \n",
    "    df = pd.DataFrame({\n",
    "        'ID'              : id,\n",
    "        'Código'          : codigo,\n",
    "        'Subcódigo'       : subcodigo,\n",
    "        'Disciplina'      : disciplina,\n",
    "        'Campus'          : campus,\n",
    "        'Período'         : periodo,\n",
    "        'Turma'           : turma,\n",
    "#         'Teoria'          : teoria,\n",
    "#         'Prática'         : pratica,\n",
    "        'Docente teoria'  : docente_teoria,\n",
    "        'Docente prática' : docente_pratica\n",
    "    })\n",
    "    \n",
    "    sheet = qgrid.QgridWidget(df=df)\n",
    "    return sheet"
   ]
  },
  {
   "cell_type": "code",
   "execution_count": 16,
   "metadata": {},
   "outputs": [],
   "source": [
    "# a = pd.Series()"
   ]
  },
  {
   "cell_type": "code",
   "execution_count": 19,
   "metadata": {},
   "outputs": [],
   "source": [
    "# a['0'] = 1"
   ]
  },
  {
   "cell_type": "code",
   "execution_count": 20,
   "metadata": {},
   "outputs": [
    {
     "data": {
      "text/plain": [
       "0    1\n",
       "dtype: int64"
      ]
     },
     "execution_count": 20,
     "metadata": {},
     "output_type": "execute_result"
    }
   ],
   "source": [
    "# a"
   ]
  },
  {
   "cell_type": "code",
   "execution_count": null,
   "metadata": {},
   "outputs": [],
   "source": []
  }
 ],
 "metadata": {
  "kernelspec": {
   "display_name": "Python 3",
   "language": "python",
   "name": "python3"
  },
  "language_info": {
   "codemirror_mode": {
    "name": "ipython",
    "version": 3
   },
   "file_extension": ".py",
   "mimetype": "text/x-python",
   "name": "python",
   "nbconvert_exporter": "python",
   "pygments_lexer": "ipython3",
   "version": "3.6.4"
  }
 },
 "nbformat": 4,
 "nbformat_minor": 2
}
