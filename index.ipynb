{
 "cells": [
  {
   "cell_type": "markdown",
   "metadata": {},
   "source": [
    "# UFABC PDF to Spreadsheet"
   ]
  },
  {
   "cell_type": "markdown",
   "metadata": {},
   "source": [
    "Define the ```url``` and ```filename```'s string variables that contain the URL of the PDF file to be converted and the new files name, repectively."
   ]
  },
  {
   "cell_type": "code",
   "execution_count": 1,
   "metadata": {},
   "outputs": [],
   "source": [
    "url = \"http://prograd.ufabc.edu.br/pdf/turmas_salas_docentes_sa_2018.1.pdf\"\n",
    "filename = \"2018.1_SA\" # without extention\n",
    "pdf_filename  = filename + '.pdf'\n",
    "csv_filename  = filename + '.csv'\n",
    "json_filename = filename + '.json'"
   ]
  },
  {
   "cell_type": "markdown",
   "metadata": {},
   "source": [
    "Run [configuration notebook](config.ipynb)."
   ]
  },
  {
   "cell_type": "code",
   "execution_count": 2,
   "metadata": {},
   "outputs": [],
   "source": [
    "%run config.ipynb"
   ]
  },
  {
   "cell_type": "markdown",
   "metadata": {},
   "source": [
    "Import [functions notebook](functions.ipynb)."
   ]
  },
  {
   "cell_type": "code",
   "execution_count": 3,
   "metadata": {},
   "outputs": [],
   "source": [
    "%run functions.ipynb"
   ]
  },
  {
   "cell_type": "markdown",
   "metadata": {},
   "source": [
    "Download and preview the PDF file."
   ]
  },
  {
   "cell_type": "code",
   "execution_count": 4,
   "metadata": {},
   "outputs": [
    {
     "name": "stdout",
     "output_type": "stream",
     "text": [
      "--2018-02-18 22:29:59--  http://prograd.ufabc.edu.br/pdf/turmas_salas_docentes_sa_2018.1.pdf\n",
      "Resolving prograd.ufabc.edu.br (prograd.ufabc.edu.br)... 200.133.215.63\n",
      "Connecting to prograd.ufabc.edu.br (prograd.ufabc.edu.br)|200.133.215.63|:80... connected.\n",
      "HTTP request sent, awaiting response... 200 OK\n",
      "Length: 689670 (674K) [application/pdf]\n",
      "Saving to: ‘2018.1_SA.pdf’\n",
      "\n",
      "2018.1_SA.pdf       100%[===================>] 673.51K   288KB/s    in 2.3s    \n",
      "\n",
      "2018-02-18 22:30:02 (288 KB/s) - ‘2018.1_SA.pdf’ saved [689670/689670]\n",
      "\n"
     ]
    },
    {
     "data": {
      "text/html": [
       "<div style=\"display:inline-block\">PDF file saved as:&nbsp</div><a href='2018.1_SA.pdf' target='_blank'>2018.1_SA.pdf</a><br>"
      ],
      "text/plain": [
       "/home/jovyan/2018.1_SA.pdf"
      ]
     },
     "metadata": {},
     "output_type": "display_data"
    },
    {
     "data": {
      "text/html": [
       "\n",
       "        <iframe\n",
       "            width=\"600\"\n",
       "            height=\"300\"\n",
       "            src=\"2018.1_SA.pdf\"\n",
       "            frameborder=\"0\"\n",
       "            allowfullscreen\n",
       "        ></iframe>\n",
       "        "
      ],
      "text/plain": [
       "<IPython.lib.display.IFrame at 0x7fe124541a58>"
      ]
     },
     "execution_count": 4,
     "metadata": {},
     "output_type": "execute_result"
    }
   ],
   "source": [
    "downloadPDF(url, pdf_filename)\n",
    "IFrame(pdf_filename, 600, 300)"
   ]
  },
  {
   "cell_type": "markdown",
   "metadata": {},
   "source": [
    "The PDF file is converted to a CSV file (*this might take a while*)."
   ]
  },
  {
   "cell_type": "code",
   "execution_count": 5,
   "metadata": {},
   "outputs": [
    {
     "name": "stdout",
     "output_type": "stream",
     "text": [
      "Feb 18, 2018 10:30:03 PM org.apache.pdfbox.pdmodel.font.PDTrueTypeFont <init>\r\n",
      "WARNING: Using fallback font 'LiberationSans' for 'Arial'\r\n"
     ]
    },
    {
     "data": {
      "text/html": [
       "<div style=\"display:inline-block\">CSV file saved as:&nbsp</div><a href='2018.1_SA.csv' target='_blank'>2018.1_SA.csv</a><br>"
      ],
      "text/plain": [
       "/home/jovyan/2018.1_SA.csv"
      ]
     },
     "metadata": {},
     "output_type": "display_data"
    }
   ],
   "source": [
    "convertPDFtoCSV(pdf_filename, csv_filename)"
   ]
  },
  {
   "cell_type": "markdown",
   "metadata": {},
   "source": [
    "The CSV file is then processed into a properly configured JSON file."
   ]
  },
  {
   "cell_type": "code",
   "execution_count": 6,
   "metadata": {},
   "outputs": [
    {
     "data": {
      "text/html": [
       "<div style=\"display:inline-block\">JSON file saved as:&nbsp</div><a href='2018.1_SA.json' target='_blank'>2018.1_SA.json</a><br>"
      ],
      "text/plain": [
       "/home/jovyan/2018.1_SA.json"
      ]
     },
     "metadata": {},
     "output_type": "display_data"
    }
   ],
   "source": [
    "json_data = convertCSVtoJSON(csv_filename, json_filename)"
   ]
  },
  {
   "cell_type": "markdown",
   "metadata": {},
   "source": [
    "Preview the JSON data."
   ]
  },
  {
   "cell_type": "code",
   "execution_count": 7,
   "metadata": {},
   "outputs": [
    {
     "data": {
      "text/html": [
       "\n",
       "        <html>\n",
       "            <head>\n",
       "                <style>\n",
       "                    .renderjson a              { text-decoration: none; }\n",
       "                    .renderjson .disclosure    { color: crimson;\n",
       "                                                  font-size: 150%; }\n",
       "                    .renderjson .syntax        { color: grey; }\n",
       "                    .renderjson .string        { color: red; }\n",
       "                    .renderjson .number        { color: blue; }\n",
       "                    .renderjson .boolean       { color: plum; }\n",
       "                    .renderjson .key           { color: blue; }\n",
       "                    .renderjson .keyword       { color: goldenrodyellow; }\n",
       "                    .renderjson .object.syntax { color: seagreen; }\n",
       "                    .renderjson .array.syntax  { color: salmon; }\n",
       "                </style>\n",
       "            </head>\n",
       "            <body>\n",
       "                <div id=\"e3556069-5465-46c7-b220-2e4bc7279c30\" style=\"height: 600px; width:100%;\"></div>\n",
       "                <script>\n",
       "                    require([\"renderjson.js\"], function() {\n",
       "                        renderjson.set_show_to_level('all');\n",
       "                        document.getElementById('e3556069-5465-46c7-b220-2e4bc7279c30').appendChild(renderjson([{'id': 0, 'codigo': 'DAESZM035-17SA', 'subcodigo': 'ESZM035', 'disciplina': 'Aditivação de Polímeros', 'campus': 'Santo André', 'periodo': 'Diurno', 'turma': 'A', 'teoria': [{'id': 1, 'dia_da_semana': 'Segunda', 'horario_de_entrada': '10:00', 'horario_de_saida': '12:00', 'sala': 'S-301-3', 'frequencia': 'Semanal'}, {'id': 2, 'dia_da_semana': 'Quinta', 'horario_de_entrada': '08:00', 'horario_de_saida': '10:00', 'sala': 'S-301-3', 'frequencia': 'Semanal'}], 'pratica': [], 'docente_teoria': 'Anne Cristine Chinellato', 'docente_pratica': ''}, {'id': 1, 'codigo': 'NA1MCTB001-17SA', 'subcodigo': 'MCTB001', 'disciplina': 'Álgebra Linear', 'campus': 'Santo André', 'periodo': 'Noturno', 'turma': 'A1', 'teoria': [{'id': 1, 'dia_da_semana': 'Segunda', 'horario_de_entrada': '19:00', 'horario_de_saida': '21:00', 'sala': 'S-204-0', 'frequencia': 'Semanal'}, {'id': 2, 'dia_da_semana': 'Quarta', 'horario_de_entrada': '21:00', 'horario_de_saida': '23:00', 'sala': 'S-204-0', 'frequencia': 'Semanal'}, {'id': 3, 'dia_da_semana': 'Sexta', 'horario_de_entrada': '19:00', 'horario_de_saida': '21:00', 'sala': 'A-108-0', 'frequencia': 'Semanal'}], 'pratica': [], 'docente_teoria': 'Roldão da Rocha Junior', 'docente_pratica': ''}, {'id': 2, 'codigo': 'DAMCTB001-17SA', 'subcodigo': 'MCTB001', 'disciplina': 'Álgebra Linear', 'campus': 'Santo André', 'periodo': 'Diurno', 'turma': 'A', 'teoria': [{'id': 1, 'dia_da_semana': 'Segunda', 'horario_de_entrada': '08:00', 'horario_de_saida': '10:00', 'sala': 'A-108-0', 'frequencia': 'Semanal'}, {'id': 2, 'dia_da_semana': 'Quarta', 'horario_de_entrada': '10:00', 'horario_de_saida': '12:00', 'sala': 'A-108-0', 'frequencia': 'Semanal'}, {'id': 3, 'dia_da_semana': 'Sexta', 'horario_de_entrada': '08:00', 'horario_de_saida': '10:00', 'sala': 'A-108-0', 'frequencia': 'Semanal'}], 'pratica': [], 'docente_teoria': 'Rodrigo Roque Dias', 'docente_pratica': ''}, {'id': 3, 'codigo': 'NAMCTB001-17SA', 'subcodigo': 'MCTB001', 'disciplina': 'Álgebra Linear', 'campus': 'Santo André', 'periodo': 'Noturno', 'turma': 'A', 'teoria': [{'id': 1, 'dia_da_semana': 'Segunda', 'horario_de_entrada': '19:00', 'horario_de_saida': '21:00', 'sala': 'S-212-0', 'frequencia': 'Semanal'}, {'id': 2, 'dia_da_semana': 'Quarta', 'horario_de_entrada': '21:00', 'horario_de_saida': '23:00', 'sala': 'S-212-0', 'frequencia': 'Semanal'}, {'id': 3, 'dia_da_semana': 'Sexta', 'horario_de_entrada': '19:00', 'horario_de_saida': '21:00', 'sala': 'S-212-0', 'frequencia': 'Semanal'}], 'pratica': [], 'docente_teoria': 'Dmitry Vasilevich', 'docente_pratica': ''}, {'id': 4, 'codigo': 'DA1MCTA001-17SA', 'subcodigo': 'MCTA001', 'disciplina': 'Algoritmos e Estruturas de Dados I', 'campus': 'Santo André', 'periodo': 'Diurno', 'turma': 'A1', 'teoria': [{'id': 1, 'dia_da_semana': 'Quarta', 'horario_de_entrada': '08:00', 'horario_de_saida': '10:00', 'sala': 'S-301-1', 'frequencia': 'Semanal'}], 'pratica': [{'id': 0, 'dia_da_semana': 'Segunda', 'horario_de_entrada': '10:00', 'horario_de_saida': '12:00', 'sala': '407-2', 'frequencia': 'Semanal'}], 'docente_teoria': 'Mirtha Lina Fernandez Venero', 'docente_pratica': 'Mirtha Lina Fernandez Venero'}, {'id': 5, 'codigo': 'NA1MCTA001-17SA', 'subcodigo': 'MCTA001', 'disciplina': 'Algoritmos e Estruturas de Dados I', 'campus': 'Santo André', 'periodo': 'Noturno', 'turma': 'A1', 'teoria': [{'id': 1, 'dia_da_semana': 'Quarta', 'horario_de_entrada': '19:00', 'horario_de_saida': '21:00', 'sala': 'S-301-1', 'frequencia': 'Semanal'}], 'pratica': [{'id': 0, 'dia_da_semana': 'Segunda', 'horario_de_entrada': '21:00', 'horario_de_saida': '23:00', 'sala': '402-2', 'frequencia': 'Semanal'}], 'docente_teoria': 'Cristiane Maria Sato', 'docente_pratica': 'Cristiane Maria Sato'}, {'id': 6, 'codigo': 'DA2MCTA001-17SA', 'subcodigo': 'MCTA001', 'disciplina': 'Algoritmos e Estruturas de Dados I', 'campus': 'Santo André', 'periodo': 'Diurno', 'turma': 'A2', 'teoria': [{'id': 1, 'dia_da_semana': 'Quarta', 'horario_de_entrada': '08:00', 'horario_de_saida': '10:00', 'sala': 'S-301-1', 'frequencia': 'Semanal'}], 'pratica': [{'id': 0, 'dia_da_semana': 'Segunda', 'horario_de_entrada': '10:00', 'horario_de_saida': '12:00', 'sala': '409-2', 'frequencia': 'Semanal'}], 'docente_teoria': 'Mirtha Lina Fernandez Venero', 'docente_pratica': 'Paulo Henrique Pisani'}, {'id': 7, 'codigo': 'NA2MCTA001-17SA', 'subcodigo': 'MCTA001', 'disciplina': 'Algoritmos e Estruturas de Dados I', 'campus': 'Santo André', 'periodo': 'Noturno', 'turma': 'A2', 'teoria': [{'id': 1, 'dia_da_semana': 'Quarta', 'horario_de_entrada': '19:00', 'horario_de_saida': '21:00', 'sala': 'S-301-1', 'frequencia': 'Semanal'}], 'pratica': [{'id': 0, 'dia_da_semana': 'Segunda', 'horario_de_entrada': '21:00', 'horario_de_saida': '23:00', 'sala': '404-2', 'frequencia': 'Semanal'}], 'docente_teoria': 'Cristiane Maria Sato', 'docente_pratica': 'Daniel Morgato Martin'}, {'id': 8, 'codigo': 'DB1MCTA001-17SA', 'subcodigo': 'MCTA001', 'disciplina': 'Algoritmos e Estruturas de Dados I', 'campus': 'Santo André', 'periodo': 'Diurno', 'turma': 'B1', 'teoria': [{'id': 1, 'dia_da_semana': 'Segunda', 'horario_de_entrada': '16:00', 'horario_de_saida': '18:00', 'sala': 'A-106-0', 'frequencia': 'Semanal'}], 'pratica': [{'id': 0, 'dia_da_semana': 'Quarta', 'horario_de_entrada': '16:00', 'horario_de_saida': '18:00', 'sala': '409-2', 'frequencia': 'Semanal'}], 'docente_teoria': 'Monael Pinheiro Ribeiro', 'docente_pratica': 'Monael Pinheiro Ribeiro'}, {'id': 9, 'codigo': 'DB2MCTA001-17SA', 'subcodigo': 'MCTA001', 'disciplina': 'Algoritmos e Estruturas de Dados I', 'campus': 'Santo André', 'periodo': 'Diurno', 'turma': 'B2', 'teoria': [{'id': 1, 'dia_da_semana': 'Segunda', 'horario_de_entrada': '16:00', 'horario_de_saida': '18:00', 'sala': 'A-106-0', 'frequencia': 'Semanal'}], 'pratica': [{'id': 0, 'dia_da_semana': 'Quarta', 'horario_de_entrada': '16:00', 'horario_de_saida': '18:00', 'sala': '407-2', 'frequencia': 'Semanal'}], 'docente_teoria': 'Monael Pinheiro Ribeiro', 'docente_pratica': 'Paulo Henrique Pisani'}, {'id': 10, 'codigo': 'DAMCZA035-14SA', 'subcodigo': 'MCZA035', 'disciplina': 'Algoritmos Probabilísticos', 'campus': 'Santo André', 'periodo': 'Diurno', 'turma': 'A', 'teoria': [{'id': 1, 'dia_da_semana': 'Quarta', 'horario_de_entrada': '10:00', 'horario_de_saida': '12:00', 'sala': 'S-301-2', 'frequencia': 'Semanal'}, {'id': 2, 'dia_da_semana': 'Sexta', 'horario_de_entrada': '08:00', 'horario_de_saida': '10:00', 'sala': 'S-301-2', 'frequencia': 'Semanal'}], 'pratica': [], 'docente_teoria': 'Jair Donadelli Junior', 'docente_pratica': ''}]))\n",
       "                    });\n",
       "                </script>\n",
       "            </body>\n",
       "        </html>\n",
       "        "
      ],
      "text/plain": [
       "<IPython.core.display.HTML object>"
      ]
     },
     "metadata": {},
     "output_type": "display_data"
    }
   ],
   "source": [
    "showJSON(json_data)"
   ]
  },
  {
   "cell_type": "markdown",
   "metadata": {},
   "source": [
    "Finally, process the JSON data into a spreadsheet."
   ]
  },
  {
   "cell_type": "code",
   "execution_count": 8,
   "metadata": {},
   "outputs": [
    {
     "name": "stdout",
     "output_type": "stream",
     "text": [
      "{'id': 0, 'codigo': 'DAESZM035-17SA', 'subcodigo': 'ESZM035', 'disciplina': 'Aditivação de Polímeros', 'campus': 'Santo André', 'periodo': 'Diurno', 'turma': 'A', 'teoria': [{'id': 1, 'dia_da_semana': 'Segunda', 'horario_de_entrada': '10:00', 'horario_de_saida': '12:00', 'sala': 'S-301-3', 'frequencia': 'Semanal'}, {'id': 2, 'dia_da_semana': 'Quinta', 'horario_de_entrada': '08:00', 'horario_de_saida': '10:00', 'sala': 'S-301-3', 'frequencia': 'Semanal'}], 'pratica': [], 'docente_teoria': 'Anne Cristine Chinellato', 'docente_pratica': '', '0': 'Aditivação de Polímeros'}\n",
      "{'id': 1, 'codigo': 'NA1MCTB001-17SA', 'subcodigo': 'MCTB001', 'disciplina': 'Álgebra Linear', 'campus': 'Santo André', 'periodo': 'Noturno', 'turma': 'A1', 'teoria': [{'id': 1, 'dia_da_semana': 'Segunda', 'horario_de_entrada': '19:00', 'horario_de_saida': '21:00', 'sala': 'S-204-0', 'frequencia': 'Semanal'}, {'id': 2, 'dia_da_semana': 'Quarta', 'horario_de_entrada': '21:00', 'horario_de_saida': '23:00', 'sala': 'S-204-0', 'frequencia': 'Semanal'}, {'id': 3, 'dia_da_semana': 'Sexta', 'horario_de_entrada': '19:00', 'horario_de_saida': '21:00', 'sala': 'A-108-0', 'frequencia': 'Semanal'}], 'pratica': [], 'docente_teoria': 'Roldão da Rocha Junior', 'docente_pratica': '', '1': 'Álgebra Linear'}\n",
      "{'id': 2, 'codigo': 'DAMCTB001-17SA', 'subcodigo': 'MCTB001', 'disciplina': 'Álgebra Linear', 'campus': 'Santo André', 'periodo': 'Diurno', 'turma': 'A', 'teoria': [{'id': 1, 'dia_da_semana': 'Segunda', 'horario_de_entrada': '08:00', 'horario_de_saida': '10:00', 'sala': 'A-108-0', 'frequencia': 'Semanal'}, {'id': 2, 'dia_da_semana': 'Quarta', 'horario_de_entrada': '10:00', 'horario_de_saida': '12:00', 'sala': 'A-108-0', 'frequencia': 'Semanal'}, {'id': 3, 'dia_da_semana': 'Sexta', 'horario_de_entrada': '08:00', 'horario_de_saida': '10:00', 'sala': 'A-108-0', 'frequencia': 'Semanal'}], 'pratica': [], 'docente_teoria': 'Rodrigo Roque Dias', 'docente_pratica': '', '2': 'Álgebra Linear'}\n",
      "{'id': 3, 'codigo': 'NAMCTB001-17SA', 'subcodigo': 'MCTB001', 'disciplina': 'Álgebra Linear', 'campus': 'Santo André', 'periodo': 'Noturno', 'turma': 'A', 'teoria': [{'id': 1, 'dia_da_semana': 'Segunda', 'horario_de_entrada': '19:00', 'horario_de_saida': '21:00', 'sala': 'S-212-0', 'frequencia': 'Semanal'}, {'id': 2, 'dia_da_semana': 'Quarta', 'horario_de_entrada': '21:00', 'horario_de_saida': '23:00', 'sala': 'S-212-0', 'frequencia': 'Semanal'}, {'id': 3, 'dia_da_semana': 'Sexta', 'horario_de_entrada': '19:00', 'horario_de_saida': '21:00', 'sala': 'S-212-0', 'frequencia': 'Semanal'}], 'pratica': [], 'docente_teoria': 'Dmitry Vasilevich', 'docente_pratica': '', '3': 'Álgebra Linear'}\n",
      "{'id': 4, 'codigo': 'DA1MCTA001-17SA', 'subcodigo': 'MCTA001', 'disciplina': 'Algoritmos e Estruturas de Dados I', 'campus': 'Santo André', 'periodo': 'Diurno', 'turma': 'A1', 'teoria': [{'id': 1, 'dia_da_semana': 'Quarta', 'horario_de_entrada': '08:00', 'horario_de_saida': '10:00', 'sala': 'S-301-1', 'frequencia': 'Semanal'}], 'pratica': [{'id': 0, 'dia_da_semana': 'Segunda', 'horario_de_entrada': '10:00', 'horario_de_saida': '12:00', 'sala': '407-2', 'frequencia': 'Semanal'}], 'docente_teoria': 'Mirtha Lina Fernandez Venero', 'docente_pratica': 'Mirtha Lina Fernandez Venero', '4': 'Algoritmos e Estruturas de Dados I'}\n",
      "{'id': 5, 'codigo': 'NA1MCTA001-17SA', 'subcodigo': 'MCTA001', 'disciplina': 'Algoritmos e Estruturas de Dados I', 'campus': 'Santo André', 'periodo': 'Noturno', 'turma': 'A1', 'teoria': [{'id': 1, 'dia_da_semana': 'Quarta', 'horario_de_entrada': '19:00', 'horario_de_saida': '21:00', 'sala': 'S-301-1', 'frequencia': 'Semanal'}], 'pratica': [{'id': 0, 'dia_da_semana': 'Segunda', 'horario_de_entrada': '21:00', 'horario_de_saida': '23:00', 'sala': '402-2', 'frequencia': 'Semanal'}], 'docente_teoria': 'Cristiane Maria Sato', 'docente_pratica': 'Cristiane Maria Sato', '5': 'Algoritmos e Estruturas de Dados I'}\n",
      "{'id': 6, 'codigo': 'DA2MCTA001-17SA', 'subcodigo': 'MCTA001', 'disciplina': 'Algoritmos e Estruturas de Dados I', 'campus': 'Santo André', 'periodo': 'Diurno', 'turma': 'A2', 'teoria': [{'id': 1, 'dia_da_semana': 'Quarta', 'horario_de_entrada': '08:00', 'horario_de_saida': '10:00', 'sala': 'S-301-1', 'frequencia': 'Semanal'}], 'pratica': [{'id': 0, 'dia_da_semana': 'Segunda', 'horario_de_entrada': '10:00', 'horario_de_saida': '12:00', 'sala': '409-2', 'frequencia': 'Semanal'}], 'docente_teoria': 'Mirtha Lina Fernandez Venero', 'docente_pratica': 'Paulo Henrique Pisani', '6': 'Algoritmos e Estruturas de Dados I'}\n",
      "{'id': 7, 'codigo': 'NA2MCTA001-17SA', 'subcodigo': 'MCTA001', 'disciplina': 'Algoritmos e Estruturas de Dados I', 'campus': 'Santo André', 'periodo': 'Noturno', 'turma': 'A2', 'teoria': [{'id': 1, 'dia_da_semana': 'Quarta', 'horario_de_entrada': '19:00', 'horario_de_saida': '21:00', 'sala': 'S-301-1', 'frequencia': 'Semanal'}], 'pratica': [{'id': 0, 'dia_da_semana': 'Segunda', 'horario_de_entrada': '21:00', 'horario_de_saida': '23:00', 'sala': '404-2', 'frequencia': 'Semanal'}], 'docente_teoria': 'Cristiane Maria Sato', 'docente_pratica': 'Daniel Morgato Martin', '7': 'Algoritmos e Estruturas de Dados I'}\n",
      "{'id': 8, 'codigo': 'DB1MCTA001-17SA', 'subcodigo': 'MCTA001', 'disciplina': 'Algoritmos e Estruturas de Dados I', 'campus': 'Santo André', 'periodo': 'Diurno', 'turma': 'B1', 'teoria': [{'id': 1, 'dia_da_semana': 'Segunda', 'horario_de_entrada': '16:00', 'horario_de_saida': '18:00', 'sala': 'A-106-0', 'frequencia': 'Semanal'}], 'pratica': [{'id': 0, 'dia_da_semana': 'Quarta', 'horario_de_entrada': '16:00', 'horario_de_saida': '18:00', 'sala': '409-2', 'frequencia': 'Semanal'}], 'docente_teoria': 'Monael Pinheiro Ribeiro', 'docente_pratica': 'Monael Pinheiro Ribeiro', '8': 'Algoritmos e Estruturas de Dados I'}\n",
      "{'id': 9, 'codigo': 'DB2MCTA001-17SA', 'subcodigo': 'MCTA001', 'disciplina': 'Algoritmos e Estruturas de Dados I', 'campus': 'Santo André', 'periodo': 'Diurno', 'turma': 'B2', 'teoria': [{'id': 1, 'dia_da_semana': 'Segunda', 'horario_de_entrada': '16:00', 'horario_de_saida': '18:00', 'sala': 'A-106-0', 'frequencia': 'Semanal'}], 'pratica': [{'id': 0, 'dia_da_semana': 'Quarta', 'horario_de_entrada': '16:00', 'horario_de_saida': '18:00', 'sala': '407-2', 'frequencia': 'Semanal'}], 'docente_teoria': 'Monael Pinheiro Ribeiro', 'docente_pratica': 'Paulo Henrique Pisani', '9': 'Algoritmos e Estruturas de Dados I'}\n",
      "{'id': 10, 'codigo': 'DAMCZA035-14SA', 'subcodigo': 'MCZA035', 'disciplina': 'Algoritmos Probabilísticos', 'campus': 'Santo André', 'periodo': 'Diurno', 'turma': 'A', 'teoria': [{'id': 1, 'dia_da_semana': 'Quarta', 'horario_de_entrada': '10:00', 'horario_de_saida': '12:00', 'sala': 'S-301-2', 'frequencia': 'Semanal'}, {'id': 2, 'dia_da_semana': 'Sexta', 'horario_de_entrada': '08:00', 'horario_de_saida': '10:00', 'sala': 'S-301-2', 'frequencia': 'Semanal'}], 'pratica': [], 'docente_teoria': 'Jair Donadelli Junior', 'docente_pratica': '', '10': 'Algoritmos Probabilísticos'}\n"
     ]
    },
    {
     "data": {
      "application/vnd.jupyter.widget-view+json": {
       "model_id": "4d6be71357f542ec86ddd858f39afce6",
       "version_major": 2,
       "version_minor": 0
      },
      "text/html": [
       "<p>Failed to display Jupyter Widget of type <code>QgridWidget</code>.</p>\n",
       "<p>\n",
       "  If you're reading this message in the Jupyter Notebook or JupyterLab Notebook, it may mean\n",
       "  that the widgets JavaScript is still loading. If this message persists, it\n",
       "  likely means that the widgets JavaScript library is either not installed or\n",
       "  not enabled. See the <a href=\"https://ipywidgets.readthedocs.io/en/stable/user_install.html\">Jupyter\n",
       "  Widgets Documentation</a> for setup instructions.\n",
       "</p>\n",
       "<p>\n",
       "  If you're reading this message in another frontend (for example, a static\n",
       "  rendering on GitHub or <a href=\"https://nbviewer.jupyter.org/\">NBViewer</a>),\n",
       "  it may mean that your frontend doesn't currently support widgets.\n",
       "</p>\n"
      ],
      "text/plain": [
       "QgridWidget(grid_options={'fullWidthRows': True, 'syncColumnCellResize': True, 'forceFitColumns': True, 'defaultColumnWidth': 150, 'rowHeight': 28, 'enableColumnReorder': False, 'enableTextSelectionOnCells': True, 'editable': True, 'autoEdit': False, 'explicitInitialization': True, 'maxVisibleRows': 15, 'minVisibleRows': 8}, precision=5)"
      ]
     },
     "metadata": {},
     "output_type": "display_data"
    }
   ],
   "source": [
    "sheet = convertJSONtoSheet(json_data)\n",
    "sheet"
   ]
  },
  {
   "cell_type": "code",
   "execution_count": null,
   "metadata": {},
   "outputs": [],
   "source": []
  }
 ],
 "metadata": {
  "kernelspec": {
   "display_name": "Python 3",
   "language": "python",
   "name": "python3"
  },
  "language_info": {
   "codemirror_mode": {
    "name": "ipython",
    "version": 3
   },
   "file_extension": ".py",
   "mimetype": "text/x-python",
   "name": "python",
   "nbconvert_exporter": "python",
   "pygments_lexer": "ipython3",
   "version": "3.6.4"
  }
 },
 "nbformat": 4,
 "nbformat_minor": 2
}
