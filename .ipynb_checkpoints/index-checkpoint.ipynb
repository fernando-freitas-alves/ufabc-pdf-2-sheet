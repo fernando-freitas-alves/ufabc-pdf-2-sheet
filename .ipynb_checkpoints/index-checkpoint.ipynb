{
 "cells": [
  {
   "cell_type": "markdown",
   "metadata": {},
   "source": [
    "# UFABC PDF to Spreadsheet"
   ]
  },
  {
   "cell_type": "markdown",
   "metadata": {},
   "source": [
    "Define the ```url``` and ```filename```'s string variables that contain the URL of the PDF file to be converted and the new files name, repectively."
   ]
  },
  {
   "cell_type": "code",
   "execution_count": 1,
   "metadata": {},
   "outputs": [],
   "source": [
    "url = \"http://prograd.ufabc.edu.br/pdf/turmas_salas_docentes_sa_2018.1.pdf\"\n",
    "filename = \"2018.1_SA\" # without extention\n",
    "pdf_filename  = filename + '.pdf'\n",
    "csv_filename  = filename + '.csv'\n",
    "json_filename = filename + '.json'"
   ]
  },
  {
   "cell_type": "markdown",
   "metadata": {},
   "source": [
    "Run [configuration notebook](config.ipynb)."
   ]
  },
  {
   "cell_type": "code",
   "execution_count": 2,
   "metadata": {},
   "outputs": [],
   "source": [
    "%run config.ipynb"
   ]
  },
  {
   "cell_type": "markdown",
   "metadata": {},
   "source": [
    "Import [functions notebook](functions.ipynb)."
   ]
  },
  {
   "cell_type": "code",
   "execution_count": 3,
   "metadata": {},
   "outputs": [],
   "source": [
    "%run functions.ipynb"
   ]
  },
  {
   "cell_type": "markdown",
   "metadata": {},
   "source": [
    "Download and preview the PDF file."
   ]
  },
  {
   "cell_type": "code",
   "execution_count": 4,
   "metadata": {},
   "outputs": [
    {
     "name": "stdout",
     "output_type": "stream",
     "text": [
      "--2018-02-22 13:57:43--  http://prograd.ufabc.edu.br/pdf/turmas_salas_docentes_sa_2018.1.pdf\n",
      "Resolving prograd.ufabc.edu.br... 200.133.215.63\n",
      "Connecting to prograd.ufabc.edu.br|200.133.215.63|:80... connected.\n",
      "HTTP request sent, awaiting response... 200 OK\n",
      "Length: unspecified [application/pdf]\n",
      "Saving to: '2018.1_SA.pdf'\n",
      "\n",
      "2018.1_SA.pdf           [             <=>    ] 477.17K   142KB/s    in 3.4s    \n",
      "\n",
      "2018-02-22 13:57:46 (142 KB/s) - '2018.1_SA.pdf' saved [689601]\n",
      "\n"
     ]
    },
    {
     "data": {
      "text/html": [
       "<div style=\"display:inline-block\">PDF file saved as:&nbsp</div><a href='2018.1_SA.pdf' target='_blank'>2018.1_SA.pdf</a><br>"
      ],
      "text/plain": [
       "/Users/fernando/Documents/GitHub/ufabc-pdf-2-sheet/2018.1_SA.pdf"
      ]
     },
     "metadata": {},
     "output_type": "display_data"
    },
    {
     "data": {
      "text/html": [
       "\n",
       "        <iframe\n",
       "            width=\"600\"\n",
       "            height=\"300\"\n",
       "            src=\"2018.1_SA.pdf\"\n",
       "            frameborder=\"0\"\n",
       "            allowfullscreen\n",
       "        ></iframe>\n",
       "        "
      ],
      "text/plain": [
       "<IPython.lib.display.IFrame at 0x111c02908>"
      ]
     },
     "execution_count": 4,
     "metadata": {},
     "output_type": "execute_result"
    }
   ],
   "source": [
    "downloadPDF(url, pdf_filename)\n",
    "IFrame(pdf_filename, 600, 300)"
   ]
  },
  {
   "cell_type": "markdown",
   "metadata": {},
   "source": [
    "The PDF file is converted to a CSV file (*this might take a while*)."
   ]
  },
  {
   "cell_type": "code",
   "execution_count": 5,
   "metadata": {},
   "outputs": [
    {
     "data": {
      "text/html": [
       "<div style=\"display:inline-block\">CSV file saved as:&nbsp</div><a href='2018.1_SA.csv' target='_blank'>2018.1_SA.csv</a><br>"
      ],
      "text/plain": [
       "/Users/fernando/Documents/GitHub/ufabc-pdf-2-sheet/2018.1_SA.csv"
      ]
     },
     "metadata": {},
     "output_type": "display_data"
    }
   ],
   "source": [
    "convertPDFtoCSV(pdf_filename, csv_filename)"
   ]
  },
  {
   "cell_type": "markdown",
   "metadata": {},
   "source": [
    "The CSV file is then processed into a properly configured JSON file."
   ]
  },
  {
   "cell_type": "code",
   "execution_count": 6,
   "metadata": {},
   "outputs": [
    {
     "data": {
      "text/html": [
       "<div style=\"display:inline-block\">JSON file saved as:&nbsp</div><a href='2018.1_SA.json' target='_blank'>2018.1_SA.json</a><br>"
      ],
      "text/plain": [
       "/Users/fernando/Documents/GitHub/ufabc-pdf-2-sheet/2018.1_SA.json"
      ]
     },
     "metadata": {},
     "output_type": "display_data"
    }
   ],
   "source": [
    "json_data = convertCSVtoJSON(csv_filename, json_filename)"
   ]
  },
  {
   "cell_type": "markdown",
   "metadata": {},
   "source": [
    "Preview the JSON data."
   ]
  },
  {
   "cell_type": "code",
   "execution_count": 7,
   "metadata": {},
   "outputs": [
    {
     "data": {
      "text/html": [
       "\n",
       "        <html>\n",
       "            <head>\n",
       "                <style>\n",
       "                    .renderjson a              { text-decoration: none; }\n",
       "                    .renderjson .disclosure    { color: crimson;\n",
       "                                                  font-size: 150%; }\n",
       "                    .renderjson .syntax        { color: grey; }\n",
       "                    .renderjson .string        { color: red; }\n",
       "                    .renderjson .number        { color: blue; }\n",
       "                    .renderjson .boolean       { color: plum; }\n",
       "                    .renderjson .key           { color: blue; }\n",
       "                    .renderjson .keyword       { color: goldenrodyellow; }\n",
       "                    .renderjson .object.syntax { color: seagreen; }\n",
       "                    .renderjson .array.syntax  { color: salmon; }\n",
       "                </style>\n",
       "            </head>\n",
       "            <body>\n",
       "                <div id=\"4f639001-69e5-4633-8c7d-2f51c1ec60bd\" style=\"height: 600px; width:100%;\"></div>\n",
       "                <script>\n",
       "                    require([\"renderjson.js\"], function() {\n",
       "                        renderjson.set_show_to_level('all');\n",
       "                        document.getElementById('4f639001-69e5-4633-8c7d-2f51c1ec60bd').appendChild(renderjson([{'id': 0, 'codigo': 'DAESZM035-17SA', 'subcodigo': 'ESZM035-17', 'disciplina': 'Aditivação de Polímeros', 'campus': 'Santo André', 'periodo': 'Diurno', 'turma': 'A', 'teoria': [{'id': 0, 'dia_da_semana': 'Segunda', 'horario_de_entrada': '10:00', 'horario_de_saida': '12:00', 'sala': 'S-301-3', 'frequencia': 'Semanal'}, {'id': 1, 'dia_da_semana': 'Quinta', 'horario_de_entrada': '08:00', 'horario_de_saida': '10:00', 'sala': 'S-301-3', 'frequencia': 'Semanal'}], 'pratica': [], 'docente_teoria': 'Anne Cristine Chinellato', 'docente_pratica': ''}, {'id': 1, 'codigo': 'NA1MCTB001-17SA', 'subcodigo': 'MCTB001-17', 'disciplina': 'Álgebra Linear', 'campus': 'Santo André', 'periodo': 'Noturno', 'turma': 'A1', 'teoria': [{'id': 0, 'dia_da_semana': 'Segunda', 'horario_de_entrada': '19:00', 'horario_de_saida': '21:00', 'sala': 'S-204-0', 'frequencia': 'Semanal'}, {'id': 1, 'dia_da_semana': 'Quarta', 'horario_de_entrada': '21:00', 'horario_de_saida': '23:00', 'sala': 'S-204-0', 'frequencia': 'Semanal'}, {'id': 2, 'dia_da_semana': 'Sexta', 'horario_de_entrada': '19:00', 'horario_de_saida': '21:00', 'sala': 'A-108-0', 'frequencia': 'Semanal'}], 'pratica': [], 'docente_teoria': 'Roldão da Rocha Junior', 'docente_pratica': ''}, {'id': 2, 'codigo': 'DAMCTB001-17SA', 'subcodigo': 'MCTB001-17', 'disciplina': 'Álgebra Linear', 'campus': 'Santo André', 'periodo': 'Diurno', 'turma': 'A', 'teoria': [{'id': 0, 'dia_da_semana': 'Segunda', 'horario_de_entrada': '08:00', 'horario_de_saida': '10:00', 'sala': 'A-108-0', 'frequencia': 'Semanal'}, {'id': 1, 'dia_da_semana': 'Quarta', 'horario_de_entrada': '10:00', 'horario_de_saida': '12:00', 'sala': 'A-108-0', 'frequencia': 'Semanal'}, {'id': 2, 'dia_da_semana': 'Sexta', 'horario_de_entrada': '08:00', 'horario_de_saida': '10:00', 'sala': 'A-108-0', 'frequencia': 'Semanal'}], 'pratica': [], 'docente_teoria': 'Rodrigo Roque Dias', 'docente_pratica': ''}, {'id': 3, 'codigo': 'NAMCTB001-17SA', 'subcodigo': 'MCTB001-17', 'disciplina': 'Álgebra Linear', 'campus': 'Santo André', 'periodo': 'Noturno', 'turma': 'A', 'teoria': [{'id': 0, 'dia_da_semana': 'Segunda', 'horario_de_entrada': '19:00', 'horario_de_saida': '21:00', 'sala': 'S-212-0', 'frequencia': 'Semanal'}, {'id': 1, 'dia_da_semana': 'Quarta', 'horario_de_entrada': '21:00', 'horario_de_saida': '23:00', 'sala': 'S-212-0', 'frequencia': 'Semanal'}, {'id': 2, 'dia_da_semana': 'Sexta', 'horario_de_entrada': '19:00', 'horario_de_saida': '21:00', 'sala': 'S-212-0', 'frequencia': 'Semanal'}], 'pratica': [], 'docente_teoria': 'Dmitry Vasilevich', 'docente_pratica': ''}, {'id': 4, 'codigo': 'DA1MCTA001-17SA', 'subcodigo': 'MCTA001-17', 'disciplina': 'Algoritmos e Estruturas de Dados I', 'campus': 'Santo André', 'periodo': 'Diurno', 'turma': 'A1', 'teoria': [{'id': 0, 'dia_da_semana': 'Quarta', 'horario_de_entrada': '08:00', 'horario_de_saida': '10:00', 'sala': 'S-301-1', 'frequencia': 'Semanal'}], 'pratica': [{'id': 0, 'dia_da_semana': 'Segunda', 'horario_de_entrada': '10:00', 'horario_de_saida': '12:00', 'sala': '407-2', 'frequencia': 'Semanal'}], 'docente_teoria': 'Mirtha Lina Fernandez Venero', 'docente_pratica': 'Mirtha Lina Fernandez Venero'}, {'id': 5, 'codigo': 'NA1MCTA001-17SA', 'subcodigo': 'MCTA001-17', 'disciplina': 'Algoritmos e Estruturas de Dados I', 'campus': 'Santo André', 'periodo': 'Noturno', 'turma': 'A1', 'teoria': [{'id': 0, 'dia_da_semana': 'Quarta', 'horario_de_entrada': '19:00', 'horario_de_saida': '21:00', 'sala': 'S-301-1', 'frequencia': 'Semanal'}], 'pratica': [{'id': 0, 'dia_da_semana': 'Segunda', 'horario_de_entrada': '21:00', 'horario_de_saida': '23:00', 'sala': '402-2', 'frequencia': 'Semanal'}], 'docente_teoria': 'Cristiane Maria Sato', 'docente_pratica': 'Cristiane Maria Sato'}, {'id': 6, 'codigo': 'DA2MCTA001-17SA', 'subcodigo': 'MCTA001-17', 'disciplina': 'Algoritmos e Estruturas de Dados I', 'campus': 'Santo André', 'periodo': 'Diurno', 'turma': 'A2', 'teoria': [{'id': 0, 'dia_da_semana': 'Quarta', 'horario_de_entrada': '08:00', 'horario_de_saida': '10:00', 'sala': 'S-301-1', 'frequencia': 'Semanal'}], 'pratica': [{'id': 0, 'dia_da_semana': 'Segunda', 'horario_de_entrada': '10:00', 'horario_de_saida': '12:00', 'sala': '409-2', 'frequencia': 'Semanal'}], 'docente_teoria': 'Mirtha Lina Fernandez Venero', 'docente_pratica': 'Paulo Henrique Pisani'}, {'id': 7, 'codigo': 'NA2MCTA001-17SA', 'subcodigo': 'MCTA001-17', 'disciplina': 'Algoritmos e Estruturas de Dados I', 'campus': 'Santo André', 'periodo': 'Noturno', 'turma': 'A2', 'teoria': [{'id': 0, 'dia_da_semana': 'Quarta', 'horario_de_entrada': '19:00', 'horario_de_saida': '21:00', 'sala': 'S-301-1', 'frequencia': 'Semanal'}], 'pratica': [{'id': 0, 'dia_da_semana': 'Segunda', 'horario_de_entrada': '21:00', 'horario_de_saida': '23:00', 'sala': '404-2', 'frequencia': 'Semanal'}], 'docente_teoria': 'Cristiane Maria Sato', 'docente_pratica': 'Daniel Morgato Martin'}, {'id': 8, 'codigo': 'DB1MCTA001-17SA', 'subcodigo': 'MCTA001-17', 'disciplina': 'Algoritmos e Estruturas de Dados I', 'campus': 'Santo André', 'periodo': 'Diurno', 'turma': 'B1', 'teoria': [{'id': 0, 'dia_da_semana': 'Segunda', 'horario_de_entrada': '16:00', 'horario_de_saida': '18:00', 'sala': 'A-106-0', 'frequencia': 'Semanal'}], 'pratica': [{'id': 0, 'dia_da_semana': 'Quarta', 'horario_de_entrada': '16:00', 'horario_de_saida': '18:00', 'sala': '409-2', 'frequencia': 'Semanal'}], 'docente_teoria': 'Monael Pinheiro Ribeiro', 'docente_pratica': 'Monael Pinheiro Ribeiro'}, {'id': 9, 'codigo': 'DB2MCTA001-17SA', 'subcodigo': 'MCTA001-17', 'disciplina': 'Algoritmos e Estruturas de Dados I', 'campus': 'Santo André', 'periodo': 'Diurno', 'turma': 'B2', 'teoria': [{'id': 0, 'dia_da_semana': 'Segunda', 'horario_de_entrada': '16:00', 'horario_de_saida': '18:00', 'sala': 'A-106-0', 'frequencia': 'Semanal'}], 'pratica': [{'id': 0, 'dia_da_semana': 'Quarta', 'horario_de_entrada': '16:00', 'horario_de_saida': '18:00', 'sala': '407-2', 'frequencia': 'Semanal'}], 'docente_teoria': 'Monael Pinheiro Ribeiro', 'docente_pratica': 'Paulo Henrique Pisani'}, {'id': 10, 'codigo': 'DAMCZA035-14SA', 'subcodigo': 'MCZA035-14', 'disciplina': 'Algoritmos Probabilísticos', 'campus': 'Santo André', 'periodo': 'Diurno', 'turma': 'A', 'teoria': [{'id': 0, 'dia_da_semana': 'Quarta', 'horario_de_entrada': '10:00', 'horario_de_saida': '12:00', 'sala': 'S-301-2', 'frequencia': 'Semanal'}, {'id': 1, 'dia_da_semana': 'Sexta', 'horario_de_entrada': '08:00', 'horario_de_saida': '10:00', 'sala': 'S-301-2', 'frequencia': 'Semanal'}], 'pratica': [], 'docente_teoria': 'Jair Donadelli Junior', 'docente_pratica': ''}]))\n",
       "                    });\n",
       "                </script>\n",
       "            </body>\n",
       "        </html>\n",
       "        "
      ],
      "text/plain": [
       "<IPython.core.display.HTML object>"
      ]
     },
     "metadata": {},
     "output_type": "display_data"
    }
   ],
   "source": [
    "showJSON(json_data)"
   ]
  },
  {
   "cell_type": "markdown",
   "metadata": {},
   "source": [
    "Finally, process the JSON data into a spreadsheet."
   ]
  },
  {
   "cell_type": "code",
   "execution_count": 8,
   "metadata": {},
   "outputs": [
    {
     "data": {
      "application/vnd.jupyter.widget-view+json": {
       "model_id": "7273b910523042e8b323ffb6c6b4613c",
       "version_major": 2,
       "version_minor": 0
      },
      "text/html": [
       "<p>Failed to display Jupyter Widget of type <code>QGridWidget</code>.</p>\n",
       "<p>\n",
       "  If you're reading this message in the Jupyter Notebook or JupyterLab Notebook, it may mean\n",
       "  that the widgets JavaScript is still loading. If this message persists, it\n",
       "  likely means that the widgets JavaScript library is either not installed or\n",
       "  not enabled. See the <a href=\"https://ipywidgets.readthedocs.io/en/stable/user_install.html\">Jupyter\n",
       "  Widgets Documentation</a> for setup instructions.\n",
       "</p>\n",
       "<p>\n",
       "  If you're reading this message in another frontend (for example, a static\n",
       "  rendering on GitHub or <a href=\"https://nbviewer.jupyter.org/\">NBViewer</a>),\n",
       "  it may mean that your frontend doesn't currently support widgets.\n",
       "</p>\n"
      ],
      "text/plain": [
       "QGridWidget(grid_options={'fullWidthRows': False, 'syncColumnCellResize': True, 'forceFitColumns': False, 'defaultColumnWidth': 150, 'rowHeight': 28, 'enableColumnReorder': True, 'enableTextSelectionOnCells': True, 'editable': False, 'autoEdit': False, 'explicitInitialization': True, 'maxVisibleRows': 25, 'minVisibleRows': 15, 'sortable': True, 'filterable': True, 'highlightSelectedCell': False, 'highlightSelectedRow': True})"
      ]
     },
     "metadata": {},
     "output_type": "display_data"
    }
   ],
   "source": [
    "%run functions.ipynb\n",
    "sheet = convertJSONtoSheet(json_data)\n",
    "df = sheet.df\n",
    "sheet"
   ]
  },
  {
   "cell_type": "code",
   "execution_count": 9,
   "metadata": {
    "scrolled": true
   },
   "outputs": [
    {
     "data": {
      "text/html": [
       "<div>\n",
       "<style scoped>\n",
       "    .dataframe tbody tr th:only-of-type {\n",
       "        vertical-align: middle;\n",
       "    }\n",
       "\n",
       "    .dataframe tbody tr th {\n",
       "        vertical-align: top;\n",
       "    }\n",
       "\n",
       "    .dataframe thead th {\n",
       "        text-align: right;\n",
       "    }\n",
       "</style>\n",
       "<table border=\"1\" class=\"dataframe\">\n",
       "  <thead>\n",
       "    <tr style=\"text-align: right;\">\n",
       "      <th></th>\n",
       "      <th>Subcódigo</th>\n",
       "      <th>Disciplina</th>\n",
       "      <th>Campus</th>\n",
       "      <th>Período</th>\n",
       "      <th>Turma</th>\n",
       "      <th>Segunda</th>\n",
       "      <th>Terça</th>\n",
       "      <th>Quarta</th>\n",
       "      <th>Quinta</th>\n",
       "      <th>Sexta</th>\n",
       "      <th>Sábado</th>\n",
       "      <th>Domingo</th>\n",
       "      <th>Docente teoria</th>\n",
       "      <th>Docente prática</th>\n",
       "    </tr>\n",
       "  </thead>\n",
       "  <tbody>\n",
       "    <tr>\n",
       "      <th>0</th>\n",
       "      <td>ESZM035-17</td>\n",
       "      <td>Aditivação de Polímeros</td>\n",
       "      <td>Santo André</td>\n",
       "      <td>Diurno</td>\n",
       "      <td>A</td>\n",
       "      <td>10:00-12:00 (S-301-3)</td>\n",
       "      <td></td>\n",
       "      <td></td>\n",
       "      <td>08:00-10:00 (S-301-3)</td>\n",
       "      <td></td>\n",
       "      <td></td>\n",
       "      <td></td>\n",
       "      <td>Anne Cristine Chinellato</td>\n",
       "      <td></td>\n",
       "    </tr>\n",
       "    <tr>\n",
       "      <th>1</th>\n",
       "      <td>MCTA001-17</td>\n",
       "      <td>Algoritmos e Estruturas de Dados I</td>\n",
       "      <td>Santo André</td>\n",
       "      <td>Diurno</td>\n",
       "      <td>A1</td>\n",
       "      <td>10:00-12:00 (407-2)</td>\n",
       "      <td></td>\n",
       "      <td>08:00-10:00 (S-301-1)</td>\n",
       "      <td></td>\n",
       "      <td></td>\n",
       "      <td></td>\n",
       "      <td></td>\n",
       "      <td>Mirtha Lina Fernandez Venero</td>\n",
       "      <td>Mirtha Lina Fernandez Venero</td>\n",
       "    </tr>\n",
       "    <tr>\n",
       "      <th>2</th>\n",
       "      <td>MCTA001-17</td>\n",
       "      <td>Algoritmos e Estruturas de Dados I</td>\n",
       "      <td>Santo André</td>\n",
       "      <td>Diurno</td>\n",
       "      <td>A2</td>\n",
       "      <td>10:00-12:00 (409-2)</td>\n",
       "      <td></td>\n",
       "      <td>08:00-10:00 (S-301-1)</td>\n",
       "      <td></td>\n",
       "      <td></td>\n",
       "      <td></td>\n",
       "      <td></td>\n",
       "      <td>Mirtha Lina Fernandez Venero</td>\n",
       "      <td>Paulo Henrique Pisani</td>\n",
       "    </tr>\n",
       "    <tr>\n",
       "      <th>3</th>\n",
       "      <td>MCTA001-17</td>\n",
       "      <td>Algoritmos e Estruturas de Dados I</td>\n",
       "      <td>Santo André</td>\n",
       "      <td>Diurno</td>\n",
       "      <td>B1</td>\n",
       "      <td>16:00-18:00 (A-106-0)</td>\n",
       "      <td></td>\n",
       "      <td>16:00-18:00 (409-2)</td>\n",
       "      <td></td>\n",
       "      <td></td>\n",
       "      <td></td>\n",
       "      <td></td>\n",
       "      <td>Monael Pinheiro Ribeiro</td>\n",
       "      <td>Monael Pinheiro Ribeiro</td>\n",
       "    </tr>\n",
       "    <tr>\n",
       "      <th>4</th>\n",
       "      <td>MCTA001-17</td>\n",
       "      <td>Algoritmos e Estruturas de Dados I</td>\n",
       "      <td>Santo André</td>\n",
       "      <td>Diurno</td>\n",
       "      <td>B2</td>\n",
       "      <td>16:00-18:00 (A-106-0)</td>\n",
       "      <td></td>\n",
       "      <td>16:00-18:00 (407-2)</td>\n",
       "      <td></td>\n",
       "      <td></td>\n",
       "      <td></td>\n",
       "      <td></td>\n",
       "      <td>Monael Pinheiro Ribeiro</td>\n",
       "      <td>Paulo Henrique Pisani</td>\n",
       "    </tr>\n",
       "    <tr>\n",
       "      <th>5</th>\n",
       "      <td>MCTA001-17</td>\n",
       "      <td>Algoritmos e Estruturas de Dados I</td>\n",
       "      <td>Santo André</td>\n",
       "      <td>Noturno</td>\n",
       "      <td>A1</td>\n",
       "      <td>21:00-23:00 (402-2)</td>\n",
       "      <td></td>\n",
       "      <td>19:00-21:00 (S-301-1)</td>\n",
       "      <td></td>\n",
       "      <td></td>\n",
       "      <td></td>\n",
       "      <td></td>\n",
       "      <td>Cristiane Maria Sato</td>\n",
       "      <td>Cristiane Maria Sato</td>\n",
       "    </tr>\n",
       "    <tr>\n",
       "      <th>6</th>\n",
       "      <td>MCTA001-17</td>\n",
       "      <td>Algoritmos e Estruturas de Dados I</td>\n",
       "      <td>Santo André</td>\n",
       "      <td>Noturno</td>\n",
       "      <td>A2</td>\n",
       "      <td>21:00-23:00 (404-2)</td>\n",
       "      <td></td>\n",
       "      <td>19:00-21:00 (S-301-1)</td>\n",
       "      <td></td>\n",
       "      <td></td>\n",
       "      <td></td>\n",
       "      <td></td>\n",
       "      <td>Cristiane Maria Sato</td>\n",
       "      <td>Daniel Morgato Martin</td>\n",
       "    </tr>\n",
       "    <tr>\n",
       "      <th>7</th>\n",
       "      <td>MCTB001-17</td>\n",
       "      <td>Álgebra Linear</td>\n",
       "      <td>Santo André</td>\n",
       "      <td>Diurno</td>\n",
       "      <td>A</td>\n",
       "      <td>08:00-10:00 (A-108-0)</td>\n",
       "      <td></td>\n",
       "      <td>10:00-12:00 (A-108-0)</td>\n",
       "      <td></td>\n",
       "      <td>08:00-10:00 (A-108-0)</td>\n",
       "      <td></td>\n",
       "      <td></td>\n",
       "      <td>Rodrigo Roque Dias</td>\n",
       "      <td></td>\n",
       "    </tr>\n",
       "    <tr>\n",
       "      <th>8</th>\n",
       "      <td>MCTB001-17</td>\n",
       "      <td>Álgebra Linear</td>\n",
       "      <td>Santo André</td>\n",
       "      <td>Noturno</td>\n",
       "      <td>A</td>\n",
       "      <td>19:00-21:00 (S-212-0)</td>\n",
       "      <td></td>\n",
       "      <td>21:00-23:00 (S-212-0)</td>\n",
       "      <td></td>\n",
       "      <td>19:00-21:00 (S-212-0)</td>\n",
       "      <td></td>\n",
       "      <td></td>\n",
       "      <td>Dmitry Vasilevich</td>\n",
       "      <td></td>\n",
       "    </tr>\n",
       "    <tr>\n",
       "      <th>9</th>\n",
       "      <td>MCTB001-17</td>\n",
       "      <td>Álgebra Linear</td>\n",
       "      <td>Santo André</td>\n",
       "      <td>Noturno</td>\n",
       "      <td>A1</td>\n",
       "      <td>19:00-21:00 (S-204-0)</td>\n",
       "      <td></td>\n",
       "      <td>21:00-23:00 (S-204-0)</td>\n",
       "      <td></td>\n",
       "      <td>19:00-21:00 (A-108-0)</td>\n",
       "      <td></td>\n",
       "      <td></td>\n",
       "      <td>Roldão da Rocha Junior</td>\n",
       "      <td></td>\n",
       "    </tr>\n",
       "    <tr>\n",
       "      <th>10</th>\n",
       "      <td>MCZA035-14</td>\n",
       "      <td>Algoritmos Probabilísticos</td>\n",
       "      <td>Santo André</td>\n",
       "      <td>Diurno</td>\n",
       "      <td>A</td>\n",
       "      <td></td>\n",
       "      <td></td>\n",
       "      <td>10:00-12:00 (S-301-2)</td>\n",
       "      <td></td>\n",
       "      <td>08:00-10:00 (S-301-2)</td>\n",
       "      <td></td>\n",
       "      <td></td>\n",
       "      <td>Jair Donadelli Junior</td>\n",
       "      <td></td>\n",
       "    </tr>\n",
       "  </tbody>\n",
       "</table>\n",
       "</div>"
      ],
      "text/plain": [
       "     Subcódigo                          Disciplina       Campus  Período  \\\n",
       "0   ESZM035-17             Aditivação de Polímeros  Santo André   Diurno   \n",
       "1   MCTA001-17  Algoritmos e Estruturas de Dados I  Santo André   Diurno   \n",
       "2   MCTA001-17  Algoritmos e Estruturas de Dados I  Santo André   Diurno   \n",
       "3   MCTA001-17  Algoritmos e Estruturas de Dados I  Santo André   Diurno   \n",
       "4   MCTA001-17  Algoritmos e Estruturas de Dados I  Santo André   Diurno   \n",
       "5   MCTA001-17  Algoritmos e Estruturas de Dados I  Santo André  Noturno   \n",
       "6   MCTA001-17  Algoritmos e Estruturas de Dados I  Santo André  Noturno   \n",
       "7   MCTB001-17                      Álgebra Linear  Santo André   Diurno   \n",
       "8   MCTB001-17                      Álgebra Linear  Santo André  Noturno   \n",
       "9   MCTB001-17                      Álgebra Linear  Santo André  Noturno   \n",
       "10  MCZA035-14          Algoritmos Probabilísticos  Santo André   Diurno   \n",
       "\n",
       "   Turma                Segunda Terça                 Quarta  \\\n",
       "0      A  10:00-12:00 (S-301-3)                                \n",
       "1     A1    10:00-12:00 (407-2)        08:00-10:00 (S-301-1)   \n",
       "2     A2    10:00-12:00 (409-2)        08:00-10:00 (S-301-1)   \n",
       "3     B1  16:00-18:00 (A-106-0)          16:00-18:00 (409-2)   \n",
       "4     B2  16:00-18:00 (A-106-0)          16:00-18:00 (407-2)   \n",
       "5     A1    21:00-23:00 (402-2)        19:00-21:00 (S-301-1)   \n",
       "6     A2    21:00-23:00 (404-2)        19:00-21:00 (S-301-1)   \n",
       "7      A  08:00-10:00 (A-108-0)        10:00-12:00 (A-108-0)   \n",
       "8      A  19:00-21:00 (S-212-0)        21:00-23:00 (S-212-0)   \n",
       "9     A1  19:00-21:00 (S-204-0)        21:00-23:00 (S-204-0)   \n",
       "10     A                               10:00-12:00 (S-301-2)   \n",
       "\n",
       "                   Quinta                  Sexta Sábado Domingo  \\\n",
       "0   08:00-10:00 (S-301-3)                                         \n",
       "1                                                                 \n",
       "2                                                                 \n",
       "3                                                                 \n",
       "4                                                                 \n",
       "5                                                                 \n",
       "6                                                                 \n",
       "7                          08:00-10:00 (A-108-0)                  \n",
       "8                          19:00-21:00 (S-212-0)                  \n",
       "9                          19:00-21:00 (A-108-0)                  \n",
       "10                         08:00-10:00 (S-301-2)                  \n",
       "\n",
       "                  Docente teoria               Docente prática  \n",
       "0       Anne Cristine Chinellato                                \n",
       "1   Mirtha Lina Fernandez Venero  Mirtha Lina Fernandez Venero  \n",
       "2   Mirtha Lina Fernandez Venero         Paulo Henrique Pisani  \n",
       "3        Monael Pinheiro Ribeiro       Monael Pinheiro Ribeiro  \n",
       "4        Monael Pinheiro Ribeiro         Paulo Henrique Pisani  \n",
       "5           Cristiane Maria Sato          Cristiane Maria Sato  \n",
       "6           Cristiane Maria Sato         Daniel Morgato Martin  \n",
       "7             Rodrigo Roque Dias                                \n",
       "8              Dmitry Vasilevich                                \n",
       "9         Roldão da Rocha Junior                                \n",
       "10         Jair Donadelli Junior                                "
      ]
     },
     "execution_count": 9,
     "metadata": {},
     "output_type": "execute_result"
    }
   ],
   "source": [
    "df.reset_index()"
   ]
  },
  {
   "cell_type": "code",
   "execution_count": 25,
   "metadata": {},
   "outputs": [
    {
     "data": {
      "application/vnd.jupyter.widget-view+json": {
       "model_id": "1b7e4977fa194b6d92df12909a417763",
       "version_major": 2,
       "version_minor": 0
      },
      "text/html": [
       "<p>Failed to display Jupyter Widget of type <code>VBox</code>.</p>\n",
       "<p>\n",
       "  If you're reading this message in the Jupyter Notebook or JupyterLab Notebook, it may mean\n",
       "  that the widgets JavaScript is still loading. If this message persists, it\n",
       "  likely means that the widgets JavaScript library is either not installed or\n",
       "  not enabled. See the <a href=\"https://ipywidgets.readthedocs.io/en/stable/user_install.html\">Jupyter\n",
       "  Widgets Documentation</a> for setup instructions.\n",
       "</p>\n",
       "<p>\n",
       "  If you're reading this message in another frontend (for example, a static\n",
       "  rendering on GitHub or <a href=\"https://nbviewer.jupyter.org/\">NBViewer</a>),\n",
       "  it may mean that your frontend doesn't currently support widgets.\n",
       "</p>\n"
      ],
      "text/plain": [
       "VBox(children=(Label(value='Selecione as disciplinas na lista abaixo para filtrar a tabela.'), Box(children=(Box(children=(HBox(children=(Text(value='', placeholder='Pesquisar'), Button(icon='remove', layout=Layout(width='30px'), style=ButtonStyle(), tooltip='Clique para limpar o filtro'))), SelectMultiple(layout=Layout(height='200px', width='50%'), options=('[ESZM035-17] Aditivação de Polímeros (Diurno, A)', '[MCTA001-17] Algoritmos e Estruturas de Dados I (Diurno, A1)', '[MCTA001-17] Algoritmos e Estruturas de Dados I (Diurno, A2)', '[MCTA001-17] Algoritmos e Estruturas de Dados I (Diurno, B1)', '[MCTA001-17] Algoritmos e Estruturas de Dados I (Diurno, B2)', '[MCTA001-17] Algoritmos e Estruturas de Dados I (Noturno, A1)', '[MCTA001-17] Algoritmos e Estruturas de Dados I (Noturno, A2)', '[MCTB001-17] Álgebra Linear (Diurno, A)', '[MCTB001-17] Álgebra Linear (Noturno, A)', '[MCTB001-17] Álgebra Linear (Noturno, A1)', '[MCZA035-14] Algoritmos Probabilísticos (Diurno, A)'), value=()), Button(description='Limpar seleção', icon='eraser', layout=Layout(width='50%'), style=ButtonStyle(), tooltip='Clique para limpar a seleção')), layout=Layout(flex_flow='column', width='100%')),))))"
      ]
     },
     "metadata": {},
     "output_type": "display_data"
    },
    {
     "data": {
      "application/vnd.jupyter.widget-view+json": {
       "model_id": "81318890e2d54495b2293020200eadef",
       "version_major": 2,
       "version_minor": 0
      },
      "text/html": [
       "<p>Failed to display Jupyter Widget of type <code>interactive</code>.</p>\n",
       "<p>\n",
       "  If you're reading this message in the Jupyter Notebook or JupyterLab Notebook, it may mean\n",
       "  that the widgets JavaScript is still loading. If this message persists, it\n",
       "  likely means that the widgets JavaScript library is either not installed or\n",
       "  not enabled. See the <a href=\"https://ipywidgets.readthedocs.io/en/stable/user_install.html\">Jupyter\n",
       "  Widgets Documentation</a> for setup instructions.\n",
       "</p>\n",
       "<p>\n",
       "  If you're reading this message in another frontend (for example, a static\n",
       "  rendering on GitHub or <a href=\"https://nbviewer.jupyter.org/\">NBViewer</a>),\n",
       "  it may mean that your frontend doesn't currently support widgets.\n",
       "</p>\n"
      ],
      "text/plain": [
       "interactive(children=(SelectMultiple(description='query', disabled=True, index=(0,), layout=Layout(display='none'), options=('Todas', '[ESZM035-17] Aditivação de Polímeros (Diurno, A)', '[MCTA001-17] Algoritmos e Estruturas de Dados I (Diurno, A1)', '[MCTA001-17] Algoritmos e Estruturas de Dados I (Diurno, A2)', '[MCTA001-17] Algoritmos e Estruturas de Dados I (Diurno, B1)', '[MCTA001-17] Algoritmos e Estruturas de Dados I (Diurno, B2)', '[MCTA001-17] Algoritmos e Estruturas de Dados I (Noturno, A1)', '[MCTA001-17] Algoritmos e Estruturas de Dados I (Noturno, A2)', '[MCTB001-17] Álgebra Linear (Diurno, A)', '[MCTB001-17] Álgebra Linear (Noturno, A)', '[MCTB001-17] Álgebra Linear (Noturno, A1)', '[MCZA035-14] Algoritmos Probabilísticos (Diurno, A)'), value=('Todas',)), Output()), _dom_classes=('widget-interact',))"
      ]
     },
     "metadata": {},
     "output_type": "display_data"
    }
   ],
   "source": [
    "from IPython.display import display, HTML\n",
    "include = \"\"\"\n",
    "    <head>\n",
    "        <script src=\"https://ajax.googleapis.com/ajax/libs/jquery/3.3.1/jquery.min.js\"></script>\n",
    "    </head>\n",
    "\"\"\"\n",
    "js = \"\"\"\n",
    "    <script> \n",
    "        $('option').mousedown(function(e) {\n",
    "            e.preventDefault();\n",
    "            $(this).prop('selected', $(this).prop('selected') ? false : true);\n",
    "            $(this).parent().focus();\n",
    "            return false;\n",
    "        });\n",
    "    </script>\n",
    "\"\"\"\n",
    "\n",
    "getColumnIndex = lambda column_name: [index for index,column in enumerate(df.index.names) if column_name in column][0]\n",
    "\n",
    "df_reseted = df.reset_index()\n",
    "columnsList = ['Subcódigo', 'Disciplina', 'Período', 'Turma']\n",
    "# options = sorted(df.reset_index()['Disciplina'].unique().tolist())\n",
    "options = sorted(['[' + '] '.join(item[0:2]) + ' (' + item[2] + ', ' + item[3] + ')' for item in df_reseted[columnsList].values.tolist()])\n",
    "allItems = 'Todas'\n",
    "allOptions = [allItems] + options\n",
    "\n",
    "\n",
    "from ipywidgets import *\n",
    " \n",
    "Filter = Text(\n",
    "    description = '',\n",
    "    placeholder = 'Pesquisar',\n",
    "    value       = ''\n",
    ")\n",
    "\n",
    "ClearFilter = Button(\n",
    "    button_style = '', # 'success', 'info', 'warning', 'danger' or ''\n",
    "    tooltip      = 'Clique para limpar o filtro',\n",
    "    icon         = 'remove', # https://www.w3schools.com/icons/fontawesome_icons_webapp.asp\n",
    "#     layout       = Layout(width='30px')\n",
    "    layout       = {'width': '30px'}\n",
    ")\n",
    "\n",
    "List = SelectMultiple(\n",
    "    description = '',\n",
    "    options     = options,\n",
    "    value       = (),\n",
    "    layout       = {'width': '50%', 'height': '200px'}\n",
    ")\n",
    "\n",
    "Choice = SelectMultiple(\n",
    "    options     = allOptions,\n",
    "    value       = (allItems,),\n",
    "    disabled    = True,\n",
    "    layout      = {'display': 'none'}\n",
    ")\n",
    "\n",
    "ClearChoice = Button(\n",
    "    description  = 'Limpar seleção',\n",
    "    button_style = '', # 'success', 'info', 'warning', 'danger' or ''\n",
    "    tooltip      = 'Clique para limpar a seleção',\n",
    "    icon         = 'eraser', # https://www.w3schools.com/icons/fontawesome_icons_webapp.asp\n",
    "    layout       = {'width': '50%'}\n",
    ")\n",
    "\n",
    "def filterOnChange(*args):\n",
    "    value = Filter.value.lower()\n",
    "    Choice_value = Choice.value\n",
    "    if value:\n",
    "        List.options = [item for item in options if value in item.lower() or item in Choice_value]\n",
    "    else:\n",
    "        List.options = options\n",
    "    List.value = [item for item in Choice_value if item in List.options]\n",
    "    Choice.value = Choice_value\n",
    "Filter.observe(filterOnChange, 'value')\n",
    "\n",
    "def filterOnSubmit(text):\n",
    "    List.value = List.options\n",
    "    listOnChange()\n",
    "Filter.on_submit(filterOnSubmit)\n",
    "\n",
    "def clearFilterOnClick(button=None):\n",
    "    Filter.value = ''\n",
    "    filterOnChange()\n",
    "ClearFilter.on_click(clearFilterOnClick)\n",
    "\n",
    "def listOnChange(*args):\n",
    "    query = List.value\n",
    "    if query:\n",
    "        Choice.value = query\n",
    "List.observe(listOnChange, 'value')\n",
    "\n",
    "def clearChoiceOnClick(button):\n",
    "    Choice.value = (allItems,)\n",
    "    clearFilterOnClick()\n",
    "ClearChoice.on_click(clearChoiceOnClick)\n",
    "\n",
    "def filterTable(query = ()):\n",
    "    if allItems in query:\n",
    "        df2 = df\n",
    "    else:\n",
    "        df2 = filterDataFrameByColumn(df, columnsList, query)\n",
    "    display(df2.style.set_properties(**{'text-align': 'left'}))\n",
    "    display(HTML(include))\n",
    "    display(HTML(js))\n",
    "    return None\n",
    "\n",
    "def filterDataFrameByColumn(df, column_name, query):\n",
    "    items = []\n",
    "    for column in column_name:\n",
    "        column_index = getColumnIndex(column)\n",
    "        column_items = df.index.get_level_values(column_index)\n",
    "        column_items = [item.lower() for item in column_items]\n",
    "        items.append(column_items)\n",
    "    \n",
    "    indexes_group = []\n",
    "    for i in range(len(query)):\n",
    "        q = query[i]\n",
    "        subcodigo,  _, q     = q[1:].partition('] ')\n",
    "        disciplina, _, q     = q.rpartition(' (')\n",
    "        periodo,    _, turma = q[:-1].rpartition(', ')\n",
    "        valuesToFilterBy = [subcodigo, disciplina, periodo, turma]\n",
    "        \n",
    "        indexes_list = []\n",
    "        for j in range(len(valuesToFilterBy)):\n",
    "            value = valuesToFilterBy[j].lower()\n",
    "            indexes_list.append([index for index,item in enumerate(items[j]) if value == item])\n",
    "        indexes_group.append(indexes_list)\n",
    "\n",
    "    indexes = []\n",
    "    for item in indexes_group:\n",
    "        indexes_set = set(item[0])\n",
    "        for index_list in item[1:]:\n",
    "            indexes_set &= set(index_list)\n",
    "        indexes += list(indexes_set)\n",
    "\n",
    "    return df.iloc[indexes]\n",
    "\n",
    "form_items = [\n",
    "#     Box([Label(value='Pesquisar:', layout=Layout(width='70px')), Label(), Label()], layout={'flex_flow':'column'}),\n",
    "    Box([HBox([Filter, ClearFilter]),\n",
    "         List,\n",
    "         ClearChoice],  layout={'flex_flow':'column', 'width':'100%'})\n",
    "]\n",
    "\n",
    "display(VBox([\n",
    "    Label(value='Selecione as disciplinas na lista abaixo para filtrar a tabela.'),\n",
    "    Box(form_items)\n",
    "]))\n",
    "interact(filterTable, query=Choice);"
   ]
  },
  {
   "cell_type": "code",
   "execution_count": 11,
   "metadata": {},
   "outputs": [
    {
     "name": "stderr",
     "output_type": "stream",
     "text": [
      " * Running on http://127.0.0.1:8050/ (Press CTRL+C to quit)\n",
      " * Restarting with stat\n"
     ]
    },
    {
     "ename": "SystemExit",
     "evalue": "1",
     "output_type": "error",
     "traceback": [
      "An exception has occurred, use %tb to see the full traceback.\n",
      "\u001b[0;31mSystemExit\u001b[0m\u001b[0;31m:\u001b[0m 1\n"
     ]
    },
    {
     "name": "stderr",
     "output_type": "stream",
     "text": [
      "/Users/fernando/miniconda3/lib/python3.6/site-packages/IPython/core/interactiveshell.py:2918: UserWarning:\n",
      "\n",
      "To exit: use 'exit', 'quit', or Ctrl-D.\n",
      "\n"
     ]
    }
   ],
   "source": [
    "# -*- coding: utf-8 -*-\n",
    "import dash\n",
    "import dash_html_components as html\n",
    "import dash_core_components as dcc\n",
    "\n",
    "app = dash.Dash()\n",
    "\n",
    "app.layout = html.Div([\n",
    "    html.Label('Dropdown'),\n",
    "    dcc.Dropdown(\n",
    "        options=[\n",
    "            {'label': 'New York City', 'value': 'NYC'},\n",
    "            {'label': u'Montréal', 'value': 'MTL'},\n",
    "            {'label': 'San Francisco', 'value': 'SF'}\n",
    "        ],\n",
    "        value='MTL'\n",
    "    ),\n",
    "\n",
    "    html.Label('Multi-Select Dropdown'),\n",
    "    dcc.Dropdown(\n",
    "        options=[\n",
    "            {'label': 'New York City', 'value': 'NYC'},\n",
    "            {'label': u'Montréal', 'value': 'MTL'},\n",
    "            {'label': 'San Francisco', 'value': 'SF'}\n",
    "        ],\n",
    "        value=['MTL', 'SF'],\n",
    "        multi=True\n",
    "    ),\n",
    "\n",
    "    html.Label('Radio Items'),\n",
    "    dcc.RadioItems(\n",
    "        options=[\n",
    "            {'label': 'New York City', 'value': 'NYC'},\n",
    "            {'label': u'Montréal', 'value': 'MTL'},\n",
    "            {'label': 'San Francisco', 'value': 'SF'}\n",
    "        ],\n",
    "        value='MTL'\n",
    "    ),\n",
    "\n",
    "    html.Label('Checkboxes'),\n",
    "    dcc.Checklist(\n",
    "        options=[\n",
    "            {'label': 'New York City', 'value': 'NYC'},\n",
    "            {'label': u'Montréal', 'value': 'MTL'},\n",
    "            {'label': 'San Francisco', 'value': 'SF'}\n",
    "        ],\n",
    "        values=['MTL', 'SF']\n",
    "    ),\n",
    "\n",
    "    html.Label('Text Input'),\n",
    "    dcc.Input(value='MTL', type='text'),\n",
    "\n",
    "    html.Label('Slider'),\n",
    "    dcc.Slider(\n",
    "        min=0,\n",
    "        max=9,\n",
    "        marks={i: 'Label {}'.format(i) if i == 1 else str(i) for i in range(1, 6)},\n",
    "        value=5,\n",
    "    ),\n",
    "], style={'columnCount': 2})\n",
    "\n",
    "if __name__ == '__main__':\n",
    "    app.run_server(debug=True)"
   ]
  },
  {
   "cell_type": "code",
   "execution_count": null,
   "metadata": {},
   "outputs": [],
   "source": [
    "# from beakerx import *\n",
    "# # table = TableDisplay(df.reset_index())\n",
    "# # table.__dict__\n",
    "# df.reset_index()"
   ]
  },
  {
   "cell_type": "code",
   "execution_count": null,
   "metadata": {},
   "outputs": [],
   "source": [
    "from ipywidgets import widgets, interactive\n",
    "\n",
    "def f(**kwargs):\n",
    "    print(kwargs)\n",
    "\n",
    "x = widgets.Dropdown(options=[1,2,3],description='A too long description')\n",
    "y = widgets.FloatText(value='6')\n",
    "\n",
    "i = widgets.interactive(f, x=x, y=y)\n",
    "display(x,y)\n",
    "\n",
    "a = widgets.Text(value='example')\n",
    "b = widgets.FloatText(value='6')\n",
    "\n",
    "i = widgets.interactive_output(f, {'kwarg_a':a, 'kwarg_b':b} )\n",
    "display(i)\n",
    "\n",
    "a = widgets.IntSlider()\n",
    "b = widgets.IntSlider()\n",
    "c = widgets.IntSlider()\n",
    "ui = widgets.HBox([a, b, c])\n",
    "def f(a, b, c):\n",
    "    print((a, b, c))\n",
    "\n",
    "out = widgets.interactive_output(f, {'a': a, 'b': b, 'c': c})\n",
    "\n",
    "display(ui, out)"
   ]
  }
 ],
 "metadata": {
  "kernelspec": {
   "display_name": "Python 3",
   "language": "python",
   "name": "python3"
  },
  "language_info": {
   "codemirror_mode": {
    "name": "ipython",
    "version": 3
   },
   "file_extension": ".py",
   "mimetype": "text/x-python",
   "name": "python",
   "nbconvert_exporter": "python",
   "pygments_lexer": "ipython3",
   "version": "3.6.4"
  }
 },
 "nbformat": 4,
 "nbformat_minor": 2
}
