{
 "cells": [
  {
   "cell_type": "markdown",
   "metadata": {},
   "source": [
    "Import libraries needed to display files."
   ]
  },
  {
   "cell_type": "code",
   "execution_count": null,
   "metadata": {},
   "outputs": [],
   "source": [
    "from pathlib import Path\n",
    "from IPython.display import FileLink\n",
    "from IPython.display import IFrame\n",
    "from os.path import splitext"
   ]
  },
  {
   "cell_type": "markdown",
   "metadata": {},
   "source": [
    "Configure and simplify the Natural Language Toolkit (NTLK) Portuguese treebank."
   ]
  },
  {
   "cell_type": "code",
   "execution_count": null,
   "metadata": {},
   "outputs": [],
   "source": [
    "import nltk\n",
    "from nltk import tokenize\n",
    "from nltk.corpus import floresta\n",
    "def simplify_tag(t):\n",
    "    if \"+\" in t:\n",
    "        return t[t.index(\"+\")+1:]\n",
    "    else:\n",
    "        return t\n",
    "twords = nltk.corpus.floresta.tagged_words()\n",
    "twords = [(w.lower(),simplify_tag(t)) for (w,t) in twords]"
   ]
  },
  {
   "cell_type": "markdown",
   "metadata": {},
   "source": [
    "Insert some missing tagged prepositions."
   ]
  },
  {
   "cell_type": "code",
   "execution_count": null,
   "metadata": {},
   "outputs": [],
   "source": [
    "twords.insert(0,('da','prp'))\n",
    "twords.insert(0,('de','prp'))\n",
    "twords.insert(0,('di','prp'))\n",
    "twords.insert(0,('do','prp'))\n",
    "twords.insert(0,('du','prp'))"
   ]
  },
  {
   "cell_type": "markdown",
   "metadata": {},
   "source": [
    "Define ```title_pos_tag``` function that is similar to ```title``` built-in function but doesn't capitalize ```text``` input string conjunctions and prepositions. It is useful when titling proper names."
   ]
  },
  {
   "cell_type": "code",
   "execution_count": null,
   "metadata": {},
   "outputs": [],
   "source": [
    "def title_pos_tag(text):\n",
    "    def pos_tag_portuguese(tokens):\n",
    "        for index in range(len(tokens)):\n",
    "            for word in twords:\n",
    "                token = tokens[index].lower()\n",
    "                if word[0] == token:\n",
    "                    tag = word[1]\n",
    "                    tokens[index] = (token, tag)\n",
    "                    break\n",
    "        return tokens\n",
    "    tokens = tokenize.word_tokenize(text, language='portuguese')\n",
    "    tagged = pos_tag_portuguese(tokens)\n",
    "    new_text = ''\n",
    "    for index in range(len(tagged)):\n",
    "        token = tagged[index]\n",
    "        if isinstance(token, tuple):\n",
    "            word = token[0]\n",
    "            tag  = token[1]\n",
    "            # n:         substantivo\n",
    "            # prop:      nome próprio\n",
    "            # art:       artigo\n",
    "            # pron:      pronome\n",
    "            # pron-pers: pronome pessoal\n",
    "            # pron-det:  pronome determinativo\n",
    "            # pron-indp: substantivo/pron-indp\n",
    "            # adj:       adjetivo\n",
    "            # n-adj:     substantivo/adjetivo\n",
    "            # v:         verbo\n",
    "            # v-fin:     verbo finitivo\n",
    "            # v-inf:     verbo infinitivo\n",
    "            # v-pcp:     verbo particípio\n",
    "            # v-ger:     verbo gerúndio\n",
    "            # num:       numeral\n",
    "            # prp:       preposição\n",
    "            # adj:       adjetivo\n",
    "            # conj:      conjunção\n",
    "            # conj-s:    conjunção subordinativa\n",
    "            # conj-c:    conjunção coordenativa\n",
    "            # intj:      interjeição\n",
    "            # adv:       advérbio\n",
    "            # xxx:       outro\n",
    "            if 'conj' in tag or \\\n",
    "               'prp'  in tag:\n",
    "                new_text = new_text + ' ' + word.lower()\n",
    "            else:\n",
    "                new_text = new_text + ' ' + word.capitalize()\n",
    "        else:\n",
    "            new_text = new_text + ' ' + token.capitalize()\n",
    "    new_text = new_text.strip()\n",
    "#     return (new_text, tagged) # uncomment this line if is desired to retriev the tags as well\n",
    "    return new_text"
   ]
  },
  {
   "cell_type": "markdown",
   "metadata": {},
   "source": [
    "Create ```showJSON``` object that shows an expandable JSON file ```json_data``` content (*credits to [David Caldwell](https://github.com/caldwell/renderjson)*)"
   ]
  },
  {
   "cell_type": "code",
   "execution_count": null,
   "metadata": {},
   "outputs": [],
   "source": [
    "import uuid, json\n",
    "from IPython.display import HTML, display\n",
    "\n",
    "class showJSON(object):\n",
    "    def __init__(self, json_data):\n",
    "        if isinstance(json_data, dict):\n",
    "            self.json_str = json.dumps(json_data)\n",
    "        else:\n",
    "            self.json_str = json_data\n",
    "        self.uuid = str(uuid.uuid4())\n",
    "\n",
    "    def _ipython_display_(self):\n",
    "        htmlstr = \"\"\"\n",
    "        <html>\n",
    "            <head>\n",
    "                <style>\n",
    "                    .renderjson a              {{ text-decoration: none; }}\n",
    "                    .renderjson .disclosure    {{ color: crimson;\n",
    "                                                  font-size: 150%; }}\n",
    "                    .renderjson .syntax        {{ color: grey; }}\n",
    "                    .renderjson .string        {{ color: red; }}\n",
    "                    .renderjson .number        {{ color: blue; }}\n",
    "                    .renderjson .boolean       {{ color: plum; }}\n",
    "                    .renderjson .key           {{ color: blue; }}\n",
    "                    .renderjson .keyword       {{ color: goldenrodyellow; }}\n",
    "                    .renderjson .object.syntax {{ color: seagreen; }}\n",
    "                    .renderjson .array.syntax  {{ color: salmon; }}\n",
    "                </style>\n",
    "            </head>\n",
    "            <body>\n",
    "                <div id=\"{0}\" style=\"height: 600px; width:100%;\"></div>\n",
    "                <script>\n",
    "                    require([\"renderjson.js\"], function() {{\n",
    "                        renderjson.set_show_to_level('all');\n",
    "                        document.getElementById('{0}').appendChild(renderjson({1}))\n",
    "                    }});\n",
    "                </script>\n",
    "            </body>\n",
    "        </html>\n",
    "        \"\"\".format(self.uuid, self.json_str)\n",
    "        display(HTML(htmlstr))"
   ]
  },
  {
   "cell_type": "code",
   "execution_count": null,
   "metadata": {},
   "outputs": [],
   "source": []
  }
 ],
 "metadata": {
  "kernelspec": {
   "display_name": "Python 3",
   "language": "python",
   "name": "python3"
  },
  "language_info": {
   "codemirror_mode": {
    "name": "ipython",
    "version": 3
   },
   "file_extension": ".py",
   "mimetype": "text/x-python",
   "name": "python",
   "nbconvert_exporter": "python",
   "pygments_lexer": "ipython3",
   "version": "3.6.4"
  }
 },
 "nbformat": 4,
 "nbformat_minor": 2
}
