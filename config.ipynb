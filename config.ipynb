{
 "cells": [
  {
   "cell_type": "markdown",
   "metadata": {},
   "source": [
    "Import libraries needed to display files."
   ]
  },
  {
   "cell_type": "code",
   "execution_count": null,
   "metadata": {},
   "outputs": [],
   "source": [
    "from pathlib import Path\n",
    "from IPython.display import FileLink\n",
    "from IPython.display import IFrame\n",
    "from os.path import splitext"
   ]
  },
  {
   "cell_type": "markdown",
   "metadata": {},
   "source": [
    "Define ```displayFileLink``` function that displays a link of a file with ```filename``` string filename prefixed by the message given by ```message``` string."
   ]
  },
  {
   "cell_type": "code",
   "execution_count": null,
   "metadata": {},
   "outputs": [],
   "source": [
    "def displayFileLink(message, filename):\n",
    "    divText = '<div style=\"display:inline-block\">' + message + '&nbsp</div>'\n",
    "    file = FileLink(filename, result_html_prefix=divText)\n",
    "    display(file)"
   ]
  },
  {
   "cell_type": "markdown",
   "metadata": {},
   "source": [
    "Define ```downloadPDF``` function that downloads a PDF file from a link provided by ```url``` string and rename it to ```filename_pdf``` input string."
   ]
  },
  {
   "cell_type": "code",
   "execution_count": null,
   "metadata": {},
   "outputs": [],
   "source": [
    "def downloadPDF(url, pdf_filename):\n",
    "    !wget $url -O $pdf_filename\n",
    "    displayFileLink('PDF file saved as:', pdf_filename)"
   ]
  },
  {
   "cell_type": "markdown",
   "metadata": {},
   "source": [
    "Define ```convertPDFtoCSV``` function that converts a PDF file given by ```pdf_filename``` string file name to a CSV file with filename given by ```csv_filename``` input (*credits to [tabula-java team](https://github.com/tabulapdf/tabula-java)*)."
   ]
  },
  {
   "cell_type": "code",
   "execution_count": null,
   "metadata": {},
   "outputs": [],
   "source": [
    "def convertPDFtoCSV(pdf_filename, csv_filename):\n",
    "    !java -Dfile.encoding=utf-8 -jar tabula.jar -l --pages 3 $pdf_filename -o $csv_filename\n",
    "    displayFileLink('CSV file saved as:', csv_filename)"
   ]
  },
  {
   "cell_type": "markdown",
   "metadata": {},
   "source": [
    "Configure and simplify the Natural Language Toolkit (NTLK) Portuguese treebank."
   ]
  },
  {
   "cell_type": "code",
   "execution_count": null,
   "metadata": {},
   "outputs": [],
   "source": [
    "import nltk\n",
    "from nltk import tokenize\n",
    "from nltk.corpus import floresta\n",
    "def simplify_tag(t):\n",
    "    if \"+\" in t:\n",
    "        return t[t.index(\"+\")+1:]\n",
    "    else:\n",
    "        return t\n",
    "twords = nltk.corpus.floresta.tagged_words()\n",
    "twords = [(w.lower(),simplify_tag(t)) for (w,t) in twords]"
   ]
  },
  {
   "cell_type": "markdown",
   "metadata": {},
   "source": [
    "Insert some missing tagged prepositions."
   ]
  },
  {
   "cell_type": "code",
   "execution_count": null,
   "metadata": {},
   "outputs": [],
   "source": [
    "twords.insert(0,('da','prp'))\n",
    "twords.insert(0,('de','prp'))\n",
    "twords.insert(0,('di','prp'))\n",
    "twords.insert(0,('do','prp'))\n",
    "twords.insert(0,('du','prp'))"
   ]
  },
  {
   "cell_type": "markdown",
   "metadata": {},
   "source": [
    "Define ```title_pos_tag``` function that is similar to ```title``` built-in function but doesn't capitalize ```text``` input string conjunctions and prepositions. It is useful when titling proper names."
   ]
  },
  {
   "cell_type": "code",
   "execution_count": null,
   "metadata": {},
   "outputs": [],
   "source": [
    "def title_pos_tag(text):\n",
    "    def pos_tag_portuguese(tokens):\n",
    "        for index in range(len(tokens)):\n",
    "            for word in twords:\n",
    "                token = tokens[index].lower()\n",
    "                if word[0] == token:\n",
    "                    tag = word[1]\n",
    "                    tokens[index] = (token, tag)\n",
    "                    break\n",
    "        return tokens\n",
    "    tokens = tokenize.word_tokenize(text, language='portuguese')\n",
    "    tagged = pos_tag_portuguese(tokens)\n",
    "    new_text = ''\n",
    "    for index in range(len(tagged)):\n",
    "        token = tagged[index]\n",
    "        if isinstance(token, tuple):\n",
    "            word = token[0]\n",
    "            tag  = token[1]\n",
    "            # n:         substantivo\n",
    "            # prop:      nome próprio\n",
    "            # art:       artigo\n",
    "            # pron:      pronome\n",
    "            # pron-pers: pronome pessoal\n",
    "            # pron-det:  pronome determinativo\n",
    "            # pron-indp: substantivo/pron-indp\n",
    "            # adj:       adjetivo\n",
    "            # n-adj:     substantivo/adjetivo\n",
    "            # v:         verbo\n",
    "            # v-fin:     verbo finitivo\n",
    "            # v-inf:     verbo infinitivo\n",
    "            # v-pcp:     verbo particípio\n",
    "            # v-ger:     verbo gerúndio\n",
    "            # num:       numeral\n",
    "            # prp:       preposição\n",
    "            # adj:       adjetivo\n",
    "            # conj:      conjunção\n",
    "            # conj-s:    conjunção subordinativa\n",
    "            # conj-c:    conjunção coordenativa\n",
    "            # intj:      interjeição\n",
    "            # adv:       advérbio\n",
    "            # xxx:       outro\n",
    "            if 'conj' in tag or \\\n",
    "               'prp'  in tag:\n",
    "                new_text = new_text + ' ' + word.lower()\n",
    "            else:\n",
    "                new_text = new_text + ' ' + word.capitalize()\n",
    "        else:\n",
    "            new_text = new_text + ' ' + token.capitalize()\n",
    "    new_text = new_text.strip()\n",
    "#     return (new_text, tagged) # uncomment this line if is desired to retriev the tags as well\n",
    "    return new_text"
   ]
  },
  {
   "cell_type": "markdown",
   "metadata": {},
   "source": [
    "Define ```convertCSVtoJSON``` function that converts a CSV file with filename given by ```csv_filename``` string input to a JSON properly processed file with filename given by ```json_filename``` input and data given by ```json_data``` output."
   ]
  },
  {
   "cell_type": "code",
   "execution_count": null,
   "metadata": {},
   "outputs": [],
   "source": [
    "def convertCSVtoJSON(csv_filename, json_filename):\n",
    "    with open(csv_filename, encoding=\"utf-8\") as file:\n",
    "        import csv\n",
    "        csv_data = csv.reader(file, delimiter=',', quotechar='\"')\n",
    "        week_names = ('segunda','terça','quarta','quinta','sexta','sábado','domingo')\n",
    "        full_data = []\n",
    "        index = -1\n",
    "        for row in csv_data:\n",
    "            index = index + 1\n",
    "            if index:\n",
    "    #             print(', '.join(row).replace('\\r',''))\n",
    "    #             print()\n",
    "                column = 0\n",
    "                for cell in row:\n",
    "                    column = column + 1\n",
    "                    data = cell.replace('\\r','').replace('\\n',' ').replace(' , ',', ').strip()\n",
    "                    if   data == '¬': data = ''\n",
    "                    elif data == '0': data = ''\n",
    "\n",
    "                    # Código\n",
    "                    if column == 1:\n",
    "                        codigo = data.upper()\n",
    "\n",
    "                    # Disciplina - turma\n",
    "                    elif column == 2:\n",
    "                        # Campus\n",
    "                        data, _, campus = data.rpartition('(')\n",
    "                        campus = title_pos_tag(campus[:-1])\n",
    "\n",
    "                        # Disciplina\n",
    "                        disciplina, _, data = data.strip().rpartition(' ')\n",
    "                        disciplina = title_pos_tag(disciplina)\n",
    "\n",
    "                        # Turma e período\n",
    "                        turma, _, periodo = data.strip().rpartition('-')\n",
    "                        turma   = turma.upper()\n",
    "                        periodo = periodo.capitalize()\n",
    "\n",
    "                        # Subcódigo\n",
    "                        subcodigo, _, _ = codigo.partition('-')\n",
    "                        subcodigo = subcodigo[len(turma)+1:]\n",
    "\n",
    "\n",
    "                    # Teoria\n",
    "                    elif column == 3:\n",
    "                        for week in week_names:\n",
    "                            data = data.replace(week, '\\n' + week)\n",
    "                        teoria = data.replace(', \\n','\\n').strip().splitlines()\n",
    "\n",
    "                        teoria_num_of_days = len(teoria)\n",
    "                        teoria_dia_da_semana = [None]*teoria_num_of_days\n",
    "                        teoria_entrada       = [None]*teoria_num_of_days\n",
    "                        teoria_saida         = [None]*teoria_num_of_days\n",
    "                        teoria_sala          = [None]*teoria_num_of_days\n",
    "                        teoria_frequencia    = [None]*teoria_num_of_days\n",
    "                        for day in range(teoria_num_of_days):\n",
    "                            data = teoria[day]\n",
    "                            teoria_dia_da_semana[day], _, data                   = data.partition(' das ')\n",
    "                            teoria_entrada[day],       _, data                   = data.partition(' às ')\n",
    "                            teoria_saida[day],         _, data                   = data.partition(', sala ')\n",
    "                            teoria_sala[day],          _, teoria_frequencia[day] = data.partition(', ')\n",
    "\n",
    "                            teoria_dia_da_semana[day] = teoria_dia_da_semana[day].capitalize()\n",
    "                            teoria_frequencia[day]    = teoria_frequencia[day].capitalize()\n",
    "                            teoria_sala[day]          = teoria_sala[day].upper()\n",
    "\n",
    "                    # Prática\n",
    "                    elif column == 4:\n",
    "                        for week in week_names:\n",
    "                            data = data.replace(week, '\\n' + week)\n",
    "                        pratica = data.replace(',\\n','\\n').strip().splitlines()\n",
    "\n",
    "                        pratica_num_of_days = len(pratica)\n",
    "                        pratica_dia_da_semana = [None]*pratica_num_of_days\n",
    "                        pratica_entrada       = [None]*pratica_num_of_days\n",
    "                        pratica_saida         = [None]*pratica_num_of_days\n",
    "                        pratica_sala          = [None]*pratica_num_of_days\n",
    "                        pratica_frequencia    = [None]*pratica_num_of_days\n",
    "                        for day in range(pratica_num_of_days):\n",
    "                            data = pratica[day]\n",
    "                            pratica_dia_da_semana[day], _, data                    = data.partition(' das ')\n",
    "                            pratica_entrada[day],       _, data                    = data.partition(' às ')\n",
    "                            pratica_saida[day],         _, data                    = data.partition(', sala ')\n",
    "                            pratica_sala[day],          _, pratica_frequencia[day] = data.partition(', ')\n",
    "\n",
    "                            pratica_dia_da_semana[day] = pratica_dia_da_semana[day].capitalize()\n",
    "                            pratica_frequencia[day]    = pratica_frequencia[day].capitalize()\n",
    "                            pratica_sala[day]          = pratica_sala[day].upper()\n",
    "\n",
    "                    # Docente teoria\n",
    "                    elif column == 5:\n",
    "                        docente_teoria = title_pos_tag(data)\n",
    "\n",
    "                    # Docente prática\n",
    "                    elif column == 6:\n",
    "                        docente_pratica = title_pos_tag(data)\n",
    "\n",
    "                teoria = []\n",
    "                i = 0\n",
    "                for day in range(teoria_num_of_days):\n",
    "                    i = i + 1\n",
    "                    teoria_new = {'id': i,\n",
    "                                  'dia_da_semana': teoria_dia_da_semana[day],\n",
    "                                  'horario_de_entrada': teoria_entrada[day],\n",
    "                                  'horario_de_saida': teoria_saida[day],\n",
    "                                  'sala': teoria_sala[day],\n",
    "                                  'frequencia': teoria_frequencia[day]}\n",
    "                    teoria.append(teoria_new)\n",
    "\n",
    "                pratica = []\n",
    "                i = -1\n",
    "                for day in range(pratica_num_of_days):\n",
    "                    i = i + 1\n",
    "                    pratica_new = {'id': i,\n",
    "                                   'dia_da_semana': pratica_dia_da_semana[day],\n",
    "                                   'horario_de_entrada': pratica_entrada[day],\n",
    "                                   'horario_de_saida': pratica_saida[day],\n",
    "                                   'sala': pratica_sala[day],\n",
    "                                   'frequencia': pratica_frequencia[day]}\n",
    "                    pratica.append(pratica_new)\n",
    "\n",
    "                new_data = {'id': index-1,\n",
    "                            'codigo': codigo,\n",
    "                            'subcodigo': subcodigo,\n",
    "                            'disciplina': disciplina,\n",
    "                            'campus': campus,\n",
    "                            'periodo': periodo,\n",
    "                            'turma': turma,\n",
    "                            'teoria': teoria,\n",
    "                            'pratica': pratica,\n",
    "                            'docente_teoria': docente_teoria,\n",
    "                            'docente_pratica': docente_pratica}\n",
    "                full_data.append(new_data)\n",
    "\n",
    "        with open(json_filename, 'w') as file:\n",
    "            import json\n",
    "            json.dump(full_data, file)\n",
    "            displayFileLink('JSON file saved as:', json_filename)\n",
    "        with open(json_filename, 'r') as file:\n",
    "            json_data = json.load(file)\n",
    "            return json_data"
   ]
  },
  {
   "cell_type": "markdown",
   "metadata": {},
   "source": [
    "Create ```showJSON``` object that shows an expandable JSON file ```json_data``` content (*credits to [David Caldwell](https://github.com/caldwell/renderjson)*)"
   ]
  },
  {
   "cell_type": "code",
   "execution_count": null,
   "metadata": {},
   "outputs": [],
   "source": [
    "import uuid, json\n",
    "from IPython.display import HTML, display\n",
    "\n",
    "class showJSON(object):\n",
    "    def __init__(self, json_data):\n",
    "        if isinstance(json_data, dict):\n",
    "            self.json_str = json.dumps(json_data)\n",
    "        else:\n",
    "            self.json_str = json_data\n",
    "        self.uuid = str(uuid.uuid4())\n",
    "\n",
    "    def _ipython_display_(self):\n",
    "        htmlstr = \"\"\"\n",
    "        <html>\n",
    "            <head>\n",
    "                <style>\n",
    "                    .renderjson a              {{ text-decoration: none; }}\n",
    "                    .renderjson .disclosure    {{ color: crimson;\n",
    "                                                  font-size: 150%; }}\n",
    "                    .renderjson .syntax        {{ color: grey; }}\n",
    "                    .renderjson .string        {{ color: red; }}\n",
    "                    .renderjson .number        {{ color: blue; }}\n",
    "                    .renderjson .boolean       {{ color: plum; }}\n",
    "                    .renderjson .key           {{ color: blue; }}\n",
    "                    .renderjson .keyword       {{ color: goldenrodyellow; }}\n",
    "                    .renderjson .object.syntax {{ color: seagreen; }}\n",
    "                    .renderjson .array.syntax  {{ color: salmon; }}\n",
    "                </style>\n",
    "            </head>\n",
    "            <body>\n",
    "                <div id=\"{0}\" style=\"height: 600px; width:100%;\"></div>\n",
    "                <script>\n",
    "                    require([\"renderjson.js\"], function() {{\n",
    "                        renderjson.set_show_to_level('all');\n",
    "                        document.getElementById('{0}').appendChild(renderjson({1}))\n",
    "                    }});\n",
    "                </script>\n",
    "            </body>\n",
    "        </html>\n",
    "        \"\"\".format(self.uuid, self.json_str)\n",
    "        display(HTML(htmlstr))"
   ]
  },
  {
   "cell_type": "markdown",
   "metadata": {},
   "source": [
    "Define ```convertJSONtoSheet``` function that processes a JSON file with data given by ```json_data``` into a spreadsheet."
   ]
  },
  {
   "cell_type": "code",
   "execution_count": null,
   "metadata": {},
   "outputs": [],
   "source": [
    "def convertJSONtoSheet(json_data):\n",
    "#     with open(filename_json, 'r') as file:\n",
    "#         data = json.load(file)\n",
    "#     #     print(data[0]['codigo'])\n",
    "#         for disciplina in data:\n",
    "#             print(disciplina['codigo'])\n",
    "    import numpy as np\n",
    "    import pandas as pd\n",
    "    import qgrid\n",
    "    randn = np.random.randn\n",
    "    df_types = pd.DataFrame({\n",
    "        'A' : pd.Series(['2013-01-01', '2013-01-02', '2013-01-03', '2013-01-04',\n",
    "                   '2013-01-05', '2013-01-06', '2013-01-07', '2013-01-08', '2013-01-09'],index=list(range(9)),dtype='datetime64[ns]'),\n",
    "        'B' : pd.Series(randn(9),index=list(range(9)),dtype='float32'),\n",
    "        'C' : pd.Categorical([\"washington\", \"adams\", \"washington\", \"madison\", \"lincoln\",\"jefferson\", \"hamilton\", \"roosevelt\", \"kennedy\"]),\n",
    "        'D' : [\"foo\", \"bar\", \"buzz\", \"bippity\",\"boppity\", \"foo\", \"foo\", \"bar\", \"zoo\"] })\n",
    "    df_types['E'] = df_types['D'] == 'foo'\n",
    "    sheet = qgrid.QgridWidget(df=df_types, show_toolbar=True)\n",
    "    return sheet"
   ]
  }
 ],
 "metadata": {
  "kernelspec": {
   "display_name": "Python 3",
   "language": "python",
   "name": "python3"
  },
  "language_info": {
   "codemirror_mode": {
    "name": "ipython",
    "version": 3
   },
   "file_extension": ".py",
   "mimetype": "text/x-python",
   "name": "python",
   "nbconvert_exporter": "python",
   "pygments_lexer": "ipython3",
   "version": "3.6.4"
  }
 },
 "nbformat": 4,
 "nbformat_minor": 2
}
